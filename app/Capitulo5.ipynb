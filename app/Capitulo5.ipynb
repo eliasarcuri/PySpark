{
 "cells": [
  {
   "cell_type": "code",
   "execution_count": 1,
   "id": "23e2ab31-6df3-4e29-a9ee-713917878642",
   "metadata": {
    "tags": []
   },
   "outputs": [],
   "source": [
    "from pyspark.sql import SparkSession\n",
    "\n",
    "# Iniciar a sessão Spark\n",
    "# Definir um tamanho máximo de memória disponível para uso pelo driver\n",
    "spark = SparkSession.builder \\\n",
    "    .appName(\"Capítulo 5\") \\\n",
    "    .getOrCreate()\n",
    "\n",
    "# Atribui o SparkContext à variável 'sc'\n",
    "sc = spark.sparkContext"
   ]
  },
  {
   "cell_type": "code",
   "execution_count": 2,
   "id": "8273b57c-776f-48c6-83c8-a10d505e3181",
   "metadata": {
    "tags": []
   },
   "outputs": [
    {
     "name": "stdout",
     "output_type": "stream",
     "text": [
      "+----------+-----------+-----------+----------+-------------------+--------------------+---------------+---------------+-----------+------+--------------------+--------------------+------+-----------+--------------------+------+------------+-------------------+----------------+------+--------------------+---------+\n",
      "|id_cliente|       nome|id_endereco| sobrenome|    data_nascimento|               email|       telefone|        celular|        cpf|genero|        data_criacao|    data_atualizacao|status|id_endereco|                 rua|numero| complemento|             bairro|          cidade|estado|                pais|      cep|\n",
      "+----------+-----------+-----------+----------+-------------------+--------------------+---------------+---------------+-----------+------+--------------------+--------------------+------+-----------+--------------------+------+------------+-------------------+----------------+------+--------------------+---------+\n",
      "|         1|     Esther|        163|  Teixeira|2000-09-29 00:00:00|mariana858948@exa...|(65) 79034-9652|(22) 90597-2207|71284960331|     F|2023-10-22 01:59:...|2023-10-22 01:59:...|  true|        163|Trecho Fernanda d...|   249|     Ap. 104|              Rocha|         Ribeiro|    PA|         Wake Island|27002-497|\n",
      "|         2|    Mariane|        152|   Barbosa|2005-01-01 00:00:00|isissilva7264@exa...|(29) 25866-7664|(42) 62029-1129|38607941240|     M|2023-10-22 01:59:...|2023-10-22 01:59:...|  true|        152|Sítio Stephany Ar...|    41|     Sobrado|             Barros|         Correia|    MG|       Países Baixos|66931-124|\n",
      "|         3|Ana Vitória|         41|     Moura|1972-05-02 00:00:00|fernandesjoaquim8...|(51) 45846-4436|(79) 89364-2613|87019632440|     M|2023-10-22 01:59:...|2023-10-22 01:59:...|  true|         41|Passarela Anthony...|     2|    Prédio 2|   das Neves Grande|  da Mota Alegre|    MG|             Albânia|80865-269|\n",
      "|         4|    Leandro|         54|     Viana|1957-10-05 00:00:00|brunosilva8705@ex...|(52) 13001-4571|(61) 28192-2969|98634712591|     F|2023-10-22 01:59:...|2023-10-22 01:59:...|  true|         54|      Favela Barbosa|     6|      Lado B|    Pires de Campos|   Duarte Grande|    MA|         Santa Lúcia|45325-317|\n",
      "|         5|     Pietro|         56|    Santos|1948-11-03 00:00:00|ana-julia375761@e...|(67) 19581-9257|(71) 13107-6381|82460719396|     F|2023-10-22 01:59:...|2023-10-22 01:59:...|  true|         56|   Recanto Fernandes|    57|   Ala Norte|             Novaes|         Costela|    ES|         Suazilândia| 66380439|\n",
      "|         6|    Clarice|        113|    da Paz|1991-11-08 00:00:00|duarteotavio7887@...|(80) 38565-8710|(21) 42752-4579|80639472583|     F|2023-10-22 01:59:...|2023-10-22 01:59:...|  true|        113|      Sítio de Gomes|     4|    Prédio 2|    Barros da Serra|da Mata de Silva|    PE|              Suécia|58024-408|\n",
      "|         7|Ana Vitória|         56|  da Cunha|1998-10-06 00:00:00|caue115510@exampl...|(51) 34456-6880|(96) 28108-6057|75489310693|     F|2023-10-22 01:59:...|2023-10-22 01:59:...|  true|         56|   Recanto Fernandes|    57|   Ala Norte|             Novaes|         Costela|    ES|         Suazilândia| 66380439|\n",
      "|         8| Ana Sophia|         53|   da Mota|1965-12-18 00:00:00|moraesantonio7820...|(90) 86986-2870|(60) 19230-5176|62314759800|     M|2023-10-22 01:59:...|2023-10-22 01:59:...|  true|         53|    Núcleo de Farias|     4|   Ala Norte|               Lima|        Silveira|    RR|            Pitcairn| 96744448|\n",
      "|         9|   Leonardo|        151|    Fogaça|1983-10-21 00:00:00|teixeiraenrico929...|(85) 33246-2731|(19) 61606-3575|70893145610|     F|2023-10-22 01:59:...|2023-10-22 01:59:...|  true|        151|Vale Marcela Moreira|    55|  Pavilhão A|  Oliveira da Serra|   Farias Alegre|    RO|              Iraque| 90103966|\n",
      "|        10|    Anthony|        116|   Cardoso|1946-03-09 00:00:00|eduardo553737@exa...|(80) 58794-2587|(41) 41500-9144| 3615842707|     M|2023-10-22 01:59:...|2023-10-22 01:59:...|  true|        116| Estrada de Teixeira|    79|    Sala 101|   Martins de Minas|           Costa|    PB|         Santa Lúcia|69274-281|\n",
      "|        11|    Natália|        131|    Mendes|1945-12-15 00:00:00|maite253689@examp...|(68) 64468-8196|(38) 16566-2909|35920678186|     M|2023-10-22 01:59:...|2023-10-22 01:59:...|  true|        131|   Vale João Azevedo|     8|     Ala Sul|            da Rosa|  Lopes da Praia|    AL|             Espanha|65564-814|\n",
      "|        12|       Davi|        179|      Dias|1983-01-22 00:00:00|heloisa037394@exa...|(71) 49996-5156|(53) 91734-9403| 1672435943|     M|2023-10-22 01:59:...|2023-10-22 01:59:...|  true|        179|      Estrada da Luz|   979|   Garagem 1|      da Cruz Verde| Campos de Minas|    RS|            Botsuana| 49103065|\n",
      "|        13|   Stephany|        123|   Cardoso|1958-10-02 00:00:00|jesusesther4336@e...|(40) 96986-1005|(78) 75134-4146|63798402574|     F|2023-10-22 01:59:...|2023-10-22 01:59:...|  true|        123|        Lagoa Duarte|   796|       Box 2|Nogueira de Correia|           Pinto|    AL|              Mônaco| 65004933|\n",
      "|        14|      Laura|        118|   da Cruz|1957-07-26 00:00:00|maysaalves2332@ex...|(46) 68716-4102|(67) 88537-4949|23480765190|     M|2023-10-22 01:59:...|2023-10-22 01:59:...|  true|        118|        Pátio Santos|    62|Vila Mariana|     Cunha do Oeste|         da Cruz|    ES|             Somália| 59904125|\n",
      "|        15| Ana Sophia|        156|    da Luz|1974-07-05 00:00:00|aragaoluana6816@e...|(14) 92416-1668|(13) 73620-2140|35084619206|     M|2023-10-22 01:59:...|2023-10-22 01:59:...|  true|        156|       Área de Souza|   381|    Mezanino|         Nascimento|           Jesus|    MG|                Laos| 66012824|\n",
      "|        16|       Levi|         38|  Teixeira|1966-04-06 00:00:00|kevin309132@examp...|(92) 49813-1349|(98) 46928-5316|24073619896|     F|2023-10-22 01:59:...|2023-10-22 01:59:...|  true|         38|  Ladeira de Rezende|    94|     Andar 2|     Viana de Minas| Gomes do Amparo|    MG|               Palau|90507-959|\n",
      "|        17|      Alice|        104|  da Costa|1982-05-27 00:00:00|teixeiralucas7355...|(93) 69925-5720|(92) 64089-7342|67014389548|     F|2023-10-22 01:59:...|2023-10-22 01:59:...|  true|        104|    Praia de Martins|    13|       Box 2|             Campos|           Ramos|    PA|Ilhas Heard e McD...| 88248273|\n",
      "|        18|     Marina|        152|Nascimento|1997-06-23 00:00:00|aragaoraquel6201@...|(70) 51097-7401|(48) 26131-1471|51320647871|     F|2023-10-22 01:59:...|2023-10-22 01:59:...|  true|        152|Sítio Stephany Ar...|    41|     Sobrado|             Barros|         Correia|    MG|       Países Baixos|66931-124|\n",
      "|        19|     Danilo|         72|  Monteiro|1987-04-02 00:00:00|zviana4024@exampl...|(60) 60032-3404|(18) 69441-7413|80536241970|     F|2023-10-22 01:59:...|2023-10-22 01:59:...|  true|         72|      Lago de Santos|   651|  Pavilhão B|          Gonçalves|Azevedo de Goiás|    RS|           Hong Kong|46404-067|\n",
      "|        20|     Marina|         46|      Lima|1950-05-10 00:00:00|augusto093169@exa...|(13) 74635-9266|(75) 27979-5037|25439870610|     M|2023-10-22 01:59:...|2023-10-22 01:59:...|  true|         46|Feira Alexia da Mota|    50|     Ap. 101|              Jesus| Melo de Peixoto|    MT|República Centro-...| 83364383|\n",
      "+----------+-----------+-----------+----------+-------------------+--------------------+---------------+---------------+-----------+------+--------------------+--------------------+------+-----------+--------------------+------+------------+-------------------+----------------+------+--------------------+---------+\n",
      "only showing top 20 rows\n",
      "\n",
      "+----------+-----------+-----------+----------+-------------------+--------------------+---------------+---------------+-----------+------+--------------------+--------------------+------+-----------+--------------------+------+------------+-------------------+----------------+------+--------------------+---------+\n",
      "|id_cliente|       nome|id_endereco| sobrenome|    data_nascimento|               email|       telefone|        celular|        cpf|genero|        data_criacao|    data_atualizacao|status|id_endereco|                 rua|numero| complemento|             bairro|          cidade|estado|                pais|      cep|\n",
      "+----------+-----------+-----------+----------+-------------------+--------------------+---------------+---------------+-----------+------+--------------------+--------------------+------+-----------+--------------------+------+------------+-------------------+----------------+------+--------------------+---------+\n",
      "|         1|     Esther|        163|  Teixeira|2000-09-29 00:00:00|mariana858948@exa...|(65) 79034-9652|(22) 90597-2207|71284960331|     F|2023-10-22 01:59:...|2023-10-22 01:59:...|  true|        163|Trecho Fernanda d...|   249|     Ap. 104|              Rocha|         Ribeiro|    PA|         Wake Island|27002-497|\n",
      "|         2|    Mariane|        152|   Barbosa|2005-01-01 00:00:00|isissilva7264@exa...|(29) 25866-7664|(42) 62029-1129|38607941240|     M|2023-10-22 01:59:...|2023-10-22 01:59:...|  true|        152|Sítio Stephany Ar...|    41|     Sobrado|             Barros|         Correia|    MG|       Países Baixos|66931-124|\n",
      "|         3|Ana Vitória|         41|     Moura|1972-05-02 00:00:00|fernandesjoaquim8...|(51) 45846-4436|(79) 89364-2613|87019632440|     M|2023-10-22 01:59:...|2023-10-22 01:59:...|  true|         41|Passarela Anthony...|     2|    Prédio 2|   das Neves Grande|  da Mota Alegre|    MG|             Albânia|80865-269|\n",
      "|         4|    Leandro|         54|     Viana|1957-10-05 00:00:00|brunosilva8705@ex...|(52) 13001-4571|(61) 28192-2969|98634712591|     F|2023-10-22 01:59:...|2023-10-22 01:59:...|  true|         54|      Favela Barbosa|     6|      Lado B|    Pires de Campos|   Duarte Grande|    MA|         Santa Lúcia|45325-317|\n",
      "|         5|     Pietro|         56|    Santos|1948-11-03 00:00:00|ana-julia375761@e...|(67) 19581-9257|(71) 13107-6381|82460719396|     F|2023-10-22 01:59:...|2023-10-22 01:59:...|  true|         56|   Recanto Fernandes|    57|   Ala Norte|             Novaes|         Costela|    ES|         Suazilândia| 66380439|\n",
      "|         6|    Clarice|        113|    da Paz|1991-11-08 00:00:00|duarteotavio7887@...|(80) 38565-8710|(21) 42752-4579|80639472583|     F|2023-10-22 01:59:...|2023-10-22 01:59:...|  true|        113|      Sítio de Gomes|     4|    Prédio 2|    Barros da Serra|da Mata de Silva|    PE|              Suécia|58024-408|\n",
      "|         7|Ana Vitória|         56|  da Cunha|1998-10-06 00:00:00|caue115510@exampl...|(51) 34456-6880|(96) 28108-6057|75489310693|     F|2023-10-22 01:59:...|2023-10-22 01:59:...|  true|         56|   Recanto Fernandes|    57|   Ala Norte|             Novaes|         Costela|    ES|         Suazilândia| 66380439|\n",
      "|         8| Ana Sophia|         53|   da Mota|1965-12-18 00:00:00|moraesantonio7820...|(90) 86986-2870|(60) 19230-5176|62314759800|     M|2023-10-22 01:59:...|2023-10-22 01:59:...|  true|         53|    Núcleo de Farias|     4|   Ala Norte|               Lima|        Silveira|    RR|            Pitcairn| 96744448|\n",
      "|         9|   Leonardo|        151|    Fogaça|1983-10-21 00:00:00|teixeiraenrico929...|(85) 33246-2731|(19) 61606-3575|70893145610|     F|2023-10-22 01:59:...|2023-10-22 01:59:...|  true|        151|Vale Marcela Moreira|    55|  Pavilhão A|  Oliveira da Serra|   Farias Alegre|    RO|              Iraque| 90103966|\n",
      "|        10|    Anthony|        116|   Cardoso|1946-03-09 00:00:00|eduardo553737@exa...|(80) 58794-2587|(41) 41500-9144| 3615842707|     M|2023-10-22 01:59:...|2023-10-22 01:59:...|  true|        116| Estrada de Teixeira|    79|    Sala 101|   Martins de Minas|           Costa|    PB|         Santa Lúcia|69274-281|\n",
      "|        11|    Natália|        131|    Mendes|1945-12-15 00:00:00|maite253689@examp...|(68) 64468-8196|(38) 16566-2909|35920678186|     M|2023-10-22 01:59:...|2023-10-22 01:59:...|  true|        131|   Vale João Azevedo|     8|     Ala Sul|            da Rosa|  Lopes da Praia|    AL|             Espanha|65564-814|\n",
      "|        12|       Davi|        179|      Dias|1983-01-22 00:00:00|heloisa037394@exa...|(71) 49996-5156|(53) 91734-9403| 1672435943|     M|2023-10-22 01:59:...|2023-10-22 01:59:...|  true|        179|      Estrada da Luz|   979|   Garagem 1|      da Cruz Verde| Campos de Minas|    RS|            Botsuana| 49103065|\n",
      "|        13|   Stephany|        123|   Cardoso|1958-10-02 00:00:00|jesusesther4336@e...|(40) 96986-1005|(78) 75134-4146|63798402574|     F|2023-10-22 01:59:...|2023-10-22 01:59:...|  true|        123|        Lagoa Duarte|   796|       Box 2|Nogueira de Correia|           Pinto|    AL|              Mônaco| 65004933|\n",
      "|        14|      Laura|        118|   da Cruz|1957-07-26 00:00:00|maysaalves2332@ex...|(46) 68716-4102|(67) 88537-4949|23480765190|     M|2023-10-22 01:59:...|2023-10-22 01:59:...|  true|        118|        Pátio Santos|    62|Vila Mariana|     Cunha do Oeste|         da Cruz|    ES|             Somália| 59904125|\n",
      "|        15| Ana Sophia|        156|    da Luz|1974-07-05 00:00:00|aragaoluana6816@e...|(14) 92416-1668|(13) 73620-2140|35084619206|     M|2023-10-22 01:59:...|2023-10-22 01:59:...|  true|        156|       Área de Souza|   381|    Mezanino|         Nascimento|           Jesus|    MG|                Laos| 66012824|\n",
      "|        16|       Levi|         38|  Teixeira|1966-04-06 00:00:00|kevin309132@examp...|(92) 49813-1349|(98) 46928-5316|24073619896|     F|2023-10-22 01:59:...|2023-10-22 01:59:...|  true|         38|  Ladeira de Rezende|    94|     Andar 2|     Viana de Minas| Gomes do Amparo|    MG|               Palau|90507-959|\n",
      "|        17|      Alice|        104|  da Costa|1982-05-27 00:00:00|teixeiralucas7355...|(93) 69925-5720|(92) 64089-7342|67014389548|     F|2023-10-22 01:59:...|2023-10-22 01:59:...|  true|        104|    Praia de Martins|    13|       Box 2|             Campos|           Ramos|    PA|Ilhas Heard e McD...| 88248273|\n",
      "|        18|     Marina|        152|Nascimento|1997-06-23 00:00:00|aragaoraquel6201@...|(70) 51097-7401|(48) 26131-1471|51320647871|     F|2023-10-22 01:59:...|2023-10-22 01:59:...|  true|        152|Sítio Stephany Ar...|    41|     Sobrado|             Barros|         Correia|    MG|       Países Baixos|66931-124|\n",
      "|        19|     Danilo|         72|  Monteiro|1987-04-02 00:00:00|zviana4024@exampl...|(60) 60032-3404|(18) 69441-7413|80536241970|     F|2023-10-22 01:59:...|2023-10-22 01:59:...|  true|         72|      Lago de Santos|   651|  Pavilhão B|          Gonçalves|Azevedo de Goiás|    RS|           Hong Kong|46404-067|\n",
      "|        20|     Marina|         46|      Lima|1950-05-10 00:00:00|augusto093169@exa...|(13) 74635-9266|(75) 27979-5037|25439870610|     M|2023-10-22 01:59:...|2023-10-22 01:59:...|  true|         46|Feira Alexia da Mota|    50|     Ap. 101|              Jesus| Melo de Peixoto|    MT|República Centro-...| 83364383|\n",
      "+----------+-----------+-----------+----------+-------------------+--------------------+---------------+---------------+-----------+------+--------------------+--------------------+------+-----------+--------------------+------+------------+-------------------+----------------+------+--------------------+---------+\n",
      "only showing top 20 rows\n",
      "\n",
      "+----------+------+-----------+---------+-------------------+--------------------+---------------+---------------+-----------+------+--------------------+--------------------+------+-----------+--------------------+------+--------------+--------------------+--------------------+------+--------------------+---------+\n",
      "|id_cliente|  nome|id_endereco|sobrenome|    data_nascimento|               email|       telefone|        celular|        cpf|genero|        data_criacao|    data_atualizacao|status|id_endereco|                 rua|numero|   complemento|              bairro|              cidade|estado|                pais|      cep|\n",
      "+----------+------+-----------+---------+-------------------+--------------------+---------------+---------------+-----------+------+--------------------+--------------------+------+-----------+--------------------+------+--------------+--------------------+--------------------+------+--------------------+---------+\n",
      "|         1|Esther|        163| Teixeira|2000-09-29 00:00:00|mariana858948@exa...|(65) 79034-9652|(22) 90597-2207|71284960331|     F|2023-10-22 01:59:...|2023-10-22 01:59:...|  true|          1| Feira Diego da Mata|    99|       Andar 2|   Vieira das Pedras|               Porto|    SC|          Ilhas Cook|72550-245|\n",
      "|         1|Esther|        163| Teixeira|2000-09-29 00:00:00|mariana858948@exa...|(65) 79034-9652|(22) 90597-2207|71284960331|     F|2023-10-22 01:59:...|2023-10-22 01:59:...|  true|          2|Ladeira da Conceição|     7|      Sala 102|              Novaes|   Teixeira da Prata|    SP|                Niue|68397-923|\n",
      "|         1|Esther|        163| Teixeira|2000-09-29 00:00:00|mariana858948@exa...|(65) 79034-9652|(22) 90597-2207|71284960331|     F|2023-10-22 01:59:...|2023-10-22 01:59:...|  true|          3|            Via Lima|    21|        Loja 3|  Peixoto de Azevedo|      Rocha da Serra|    RJ|            Moldávia|80843-840|\n",
      "|         1|Esther|        163| Teixeira|2000-09-29 00:00:00|mariana858948@exa...|(65) 79034-9652|(22) 90597-2207|71284960331|     F|2023-10-22 01:59:...|2023-10-22 01:59:...|  true|          4|     Vila de Costela|    45|       Bloco A|     Teixeira Alegre|    Viana de Martins|    MG|São Vicente e Gra...|52117-647|\n",
      "|         1|Esther|        163| Teixeira|2000-09-29 00:00:00|mariana858948@exa...|(65) 79034-9652|(22) 90597-2207|71284960331|     F|2023-10-22 01:59:...|2023-10-22 01:59:...|  true|          5|   Vereda de Cardoso|    59|        Fundos|             Martins|        da Conceição|    SP|          Eslováquia|66960-934|\n",
      "|         1|Esther|        163| Teixeira|2000-09-29 00:00:00|mariana858948@exa...|(65) 79034-9652|(22) 90597-2207|71284960331|     F|2023-10-22 01:59:...|2023-10-22 01:59:...|  true|          6|    Rua Thiago Silva|    20|      Sala 101|              Fogaça|      Moura da Praia|    MA|             Vanuatu| 67454115|\n",
      "|         1|Esther|        163| Teixeira|2000-09-29 00:00:00|mariana858948@exa...|(65) 79034-9652|(22) 90597-2207|71284960331|     F|2023-10-22 01:59:...|2023-10-22 01:59:...|  true|          7|      Chácara da Paz|   725|  Rodovia KM 2|      Cunha do Galho|      Sales Paulista|    GO|               China|17878-687|\n",
      "|         1|Esther|        163| Teixeira|2000-09-29 00:00:00|mariana858948@exa...|(65) 79034-9652|(22) 90597-2207|71284960331|     F|2023-10-22 01:59:...|2023-10-22 01:59:...|  true|          8|    Chácara da Cunha|    81|   Quitinete 2|              Santos|              Moraes|    PA| Antilhas Holandesas| 45252630|\n",
      "|         1|Esther|        163| Teixeira|2000-09-29 00:00:00|mariana858948@exa...|(65) 79034-9652|(22) 90597-2207|71284960331|     F|2023-10-22 01:59:...|2023-10-22 01:59:...|  true|          9|       Fazenda Porto|    39|       Ap. 102|          Cavalcanti|    Peixoto de Minas|    AC|               Tonga|09224-480|\n",
      "|         1|Esther|        163| Teixeira|2000-09-29 00:00:00|mariana858948@exa...|(65) 79034-9652|(22) 90597-2207|71284960331|     F|2023-10-22 01:59:...|2023-10-22 01:59:...|  true|         10| Chácara de Oliveira|    88|  Rodovia KM 2|   Sales de Ferreira|         Pinto Verde|    MA|            Bulgária| 12824806|\n",
      "|         1|Esther|        163| Teixeira|2000-09-29 00:00:00|mariana858948@exa...|(65) 79034-9652|(22) 90597-2207|71284960331|     F|2023-10-22 01:59:...|2023-10-22 01:59:...|  true|         11|Vereda Ana Clara ...|     2|     Ala Norte|    Carvalho da Mata|       Dias de Lopes|    CE|                Cuba|30738-878|\n",
      "|         1|Esther|        163| Teixeira|2000-09-29 00:00:00|mariana858948@exa...|(65) 79034-9652|(22) 90597-2207|71284960331|     F|2023-10-22 01:59:...|2023-10-22 01:59:...|  true|         12|Ladeira Alice Car...|    58|    Pavilhão A|   Peixoto de Araújo|    Rodrigues Grande|    GO|            Colômbia| 26324179|\n",
      "|         1|Esther|        163| Teixeira|2000-09-29 00:00:00|mariana858948@exa...|(65) 79034-9652|(22) 90597-2207|71284960331|     F|2023-10-22 01:59:...|2023-10-22 01:59:...|  true|         13|  Colônia de Almeida|    53|  Rodovia KM 2|       Lima do Galho|     Rocha de Farias|    BA|               Nauru|33965-383|\n",
      "|         1|Esther|        163| Teixeira|2000-09-29 00:00:00|mariana858948@exa...|(65) 79034-9652|(22) 90597-2207|71284960331|     F|2023-10-22 01:59:...|2023-10-22 01:59:...|  true|         14| Condomínio Teixeira|   218|Estacionamento|                Lima|              Duarte|    AP|           Hong Kong|12231-715|\n",
      "|         1|Esther|        163| Teixeira|2000-09-29 00:00:00|mariana858948@exa...|(65) 79034-9652|(22) 90597-2207|71284960331|     F|2023-10-22 01:59:...|2023-10-22 01:59:...|  true|         15|         Trevo Costa|    98|         Box 2|            Caldeira|            da Rocha|    AP|            Vaticano| 12614732|\n",
      "|         1|Esther|        163| Teixeira|2000-09-29 00:00:00|mariana858948@exa...|(65) 79034-9652|(22) 90597-2207|71284960331|     F|2023-10-22 01:59:...|2023-10-22 01:59:...|  true|         16|Área Ana Carolina...|    53|Vila São Pedro|            da Cunha|       Dias do Campo|    MS|        Guiné-Bissau|15796-033|\n",
      "|         1|Esther|        163| Teixeira|2000-09-29 00:00:00|mariana858948@exa...|(65) 79034-9652|(22) 90597-2207|71284960331|     F|2023-10-22 01:59:...|2023-10-22 01:59:...|  true|         17|        Área de Lima|   489|       Ap. 104|Barbosa dos Dourados|     da Luz da Prata|    GO|               Nepal|87721-928|\n",
      "|         1|Esther|        163| Teixeira|2000-09-29 00:00:00|mariana858948@exa...|(65) 79034-9652|(22) 90597-2207|71284960331|     F|2023-10-22 01:59:...|2023-10-22 01:59:...|  true|         18|  Esplanada de Silva|     1|      Depósito|               Gomes|  Souza dos Dourados|    PA|            Mongólia|01163-726|\n",
      "|         1|Esther|        163| Teixeira|2000-09-29 00:00:00|mariana858948@exa...|(65) 79034-9652|(22) 90597-2207|71284960331|     F|2023-10-22 01:59:...|2023-10-22 01:59:...|  true|         19|   Vereda de Azevedo|     5|     Garagem 1|   Nogueira da Prata|        Alves Alegre|    RN|            Birmânia| 92032131|\n",
      "|         1|Esther|        163| Teixeira|2000-09-29 00:00:00|mariana858948@exa...|(65) 79034-9652|(22) 90597-2207|71284960331|     F|2023-10-22 01:59:...|2023-10-22 01:59:...|  true|         20| Pátio Bianca Moraes|    61|Vila São Pedro|             Barbosa|Nogueira de da Rocha|    DF|              Uganda|10247-007|\n",
      "+----------+------+-----------+---------+-------------------+--------------------+---------------+---------------+-----------+------+--------------------+--------------------+------+-----------+--------------------+------+--------------+--------------------+--------------------+------+--------------------+---------+\n",
      "only showing top 20 rows\n",
      "\n"
     ]
    }
   ],
   "source": [
    "# Carregar os DataFrames\n",
    "clientes_df = spark.read.csv(\"arquivos/clientes.csv\", header=True, inferSchema=True)\n",
    "enderecos_df = spark.read.csv(\"arquivos/enderecos.csv\", header=True, inferSchema=True)\n",
    "\n",
    "# Inner Join\n",
    "inner_join_df = clientes_df.join(enderecos_df, clientes_df.id_endereco == enderecos_df.id_endereco)\n",
    "inner_join_df.show()\n",
    "\n",
    "# Left Outer Join\n",
    "left_outer_join_df = clientes_df.join(enderecos_df, clientes_df.id_endereco == enderecos_df.id_endereco, \"left_outer\")\n",
    "left_outer_join_df.show()\n",
    "\n",
    "# Cross Join\n",
    "cross_join_df = clientes_df.crossJoin(enderecos_df)\n",
    "cross_join_df.show()\n"
   ]
  },
  {
   "cell_type": "code",
   "execution_count": 3,
   "id": "8f5e54db-f7cc-451d-bd10-0ea1b94c7366",
   "metadata": {
    "tags": []
   },
   "outputs": [
    {
     "name": "stdout",
     "output_type": "stream",
     "text": [
      "+----------+-----------+----------+--------------------+----------------+\n",
      "|id_cliente|       nome| sobrenome|                 rua|          cidade|\n",
      "+----------+-----------+----------+--------------------+----------------+\n",
      "|         1|     Esther|  Teixeira|Trecho Fernanda d...|         Ribeiro|\n",
      "|         2|    Mariane|   Barbosa|Sítio Stephany Ar...|         Correia|\n",
      "|         3|Ana Vitória|     Moura|Passarela Anthony...|  da Mota Alegre|\n",
      "|         4|    Leandro|     Viana|      Favela Barbosa|   Duarte Grande|\n",
      "|         5|     Pietro|    Santos|   Recanto Fernandes|         Costela|\n",
      "|         6|    Clarice|    da Paz|      Sítio de Gomes|da Mata de Silva|\n",
      "|         7|Ana Vitória|  da Cunha|   Recanto Fernandes|         Costela|\n",
      "|         8| Ana Sophia|   da Mota|    Núcleo de Farias|        Silveira|\n",
      "|         9|   Leonardo|    Fogaça|Vale Marcela Moreira|   Farias Alegre|\n",
      "|        10|    Anthony|   Cardoso| Estrada de Teixeira|           Costa|\n",
      "|        11|    Natália|    Mendes|   Vale João Azevedo|  Lopes da Praia|\n",
      "|        12|       Davi|      Dias|      Estrada da Luz| Campos de Minas|\n",
      "|        13|   Stephany|   Cardoso|        Lagoa Duarte|           Pinto|\n",
      "|        14|      Laura|   da Cruz|        Pátio Santos|         da Cruz|\n",
      "|        15| Ana Sophia|    da Luz|       Área de Souza|           Jesus|\n",
      "|        16|       Levi|  Teixeira|  Ladeira de Rezende| Gomes do Amparo|\n",
      "|        17|      Alice|  da Costa|    Praia de Martins|           Ramos|\n",
      "|        18|     Marina|Nascimento|Sítio Stephany Ar...|         Correia|\n",
      "|        19|     Danilo|  Monteiro|      Lago de Santos|Azevedo de Goiás|\n",
      "|        20|     Marina|      Lima|Feira Alexia da Mota| Melo de Peixoto|\n",
      "+----------+-----------+----------+--------------------+----------------+\n",
      "only showing top 20 rows\n",
      "\n"
     ]
    }
   ],
   "source": [
    "# Exemplo de código para realizar um join e selecionar algumas colunas dos dois DataFrames\n",
    "join_df = clientes_df.join(enderecos_df, \"id_endereco\") \\\n",
    "                     .select(clientes_df.id_cliente, clientes_df.nome, clientes_df.sobrenome, enderecos_df.rua, enderecos_df.cidade)\n",
    "join_df.show()"
   ]
  },
  {
   "cell_type": "code",
   "execution_count": 7,
   "id": "dc6589b3-53d9-46c7-b0ee-4c37a77255ed",
   "metadata": {
    "tags": []
   },
   "outputs": [
    {
     "name": "stdout",
     "output_type": "stream",
     "text": [
      "+----------+-----------+-----------+----------+-------------------+--------------------+---------------+---------------+-----------+------+--------------------+--------------------+------+-----------+--------------------+------+------------+-------------------+----------------+------+--------------------+---------+\n",
      "|id_cliente|       nome|id_endereco| sobrenome|    data_nascimento|               email|       telefone|        celular|        cpf|genero|        data_criacao|    data_atualizacao|status|id_endereco|                 rua|numero| complemento|             bairro|          cidade|estado|                pais|      cep|\n",
      "+----------+-----------+-----------+----------+-------------------+--------------------+---------------+---------------+-----------+------+--------------------+--------------------+------+-----------+--------------------+------+------------+-------------------+----------------+------+--------------------+---------+\n",
      "|         1|     Esther|        163|  Teixeira|2000-09-29 00:00:00|mariana858948@exa...|(65) 79034-9652|(22) 90597-2207|71284960331|     F|2023-10-22 01:59:...|2023-10-22 01:59:...|  true|        163|Trecho Fernanda d...|   249|     Ap. 104|              Rocha|         Ribeiro|    PA|         Wake Island|27002-497|\n",
      "|         2|    Mariane|        152|   Barbosa|2005-01-01 00:00:00|isissilva7264@exa...|(29) 25866-7664|(42) 62029-1129|38607941240|     M|2023-10-22 01:59:...|2023-10-22 01:59:...|  true|        152|Sítio Stephany Ar...|    41|     Sobrado|             Barros|         Correia|    MG|       Países Baixos|66931-124|\n",
      "|         3|Ana Vitória|         41|     Moura|1972-05-02 00:00:00|fernandesjoaquim8...|(51) 45846-4436|(79) 89364-2613|87019632440|     M|2023-10-22 01:59:...|2023-10-22 01:59:...|  true|         41|Passarela Anthony...|     2|    Prédio 2|   das Neves Grande|  da Mota Alegre|    MG|             Albânia|80865-269|\n",
      "|         4|    Leandro|         54|     Viana|1957-10-05 00:00:00|brunosilva8705@ex...|(52) 13001-4571|(61) 28192-2969|98634712591|     F|2023-10-22 01:59:...|2023-10-22 01:59:...|  true|         54|      Favela Barbosa|     6|      Lado B|    Pires de Campos|   Duarte Grande|    MA|         Santa Lúcia|45325-317|\n",
      "|         5|     Pietro|         56|    Santos|1948-11-03 00:00:00|ana-julia375761@e...|(67) 19581-9257|(71) 13107-6381|82460719396|     F|2023-10-22 01:59:...|2023-10-22 01:59:...|  true|         56|   Recanto Fernandes|    57|   Ala Norte|             Novaes|         Costela|    ES|         Suazilândia| 66380439|\n",
      "|         6|    Clarice|        113|    da Paz|1991-11-08 00:00:00|duarteotavio7887@...|(80) 38565-8710|(21) 42752-4579|80639472583|     F|2023-10-22 01:59:...|2023-10-22 01:59:...|  true|        113|      Sítio de Gomes|     4|    Prédio 2|    Barros da Serra|da Mata de Silva|    PE|              Suécia|58024-408|\n",
      "|         7|Ana Vitória|         56|  da Cunha|1998-10-06 00:00:00|caue115510@exampl...|(51) 34456-6880|(96) 28108-6057|75489310693|     F|2023-10-22 01:59:...|2023-10-22 01:59:...|  true|         56|   Recanto Fernandes|    57|   Ala Norte|             Novaes|         Costela|    ES|         Suazilândia| 66380439|\n",
      "|         8| Ana Sophia|         53|   da Mota|1965-12-18 00:00:00|moraesantonio7820...|(90) 86986-2870|(60) 19230-5176|62314759800|     M|2023-10-22 01:59:...|2023-10-22 01:59:...|  true|         53|    Núcleo de Farias|     4|   Ala Norte|               Lima|        Silveira|    RR|            Pitcairn| 96744448|\n",
      "|         9|   Leonardo|        151|    Fogaça|1983-10-21 00:00:00|teixeiraenrico929...|(85) 33246-2731|(19) 61606-3575|70893145610|     F|2023-10-22 01:59:...|2023-10-22 01:59:...|  true|        151|Vale Marcela Moreira|    55|  Pavilhão A|  Oliveira da Serra|   Farias Alegre|    RO|              Iraque| 90103966|\n",
      "|        10|    Anthony|        116|   Cardoso|1946-03-09 00:00:00|eduardo553737@exa...|(80) 58794-2587|(41) 41500-9144| 3615842707|     M|2023-10-22 01:59:...|2023-10-22 01:59:...|  true|        116| Estrada de Teixeira|    79|    Sala 101|   Martins de Minas|           Costa|    PB|         Santa Lúcia|69274-281|\n",
      "|        11|    Natália|        131|    Mendes|1945-12-15 00:00:00|maite253689@examp...|(68) 64468-8196|(38) 16566-2909|35920678186|     M|2023-10-22 01:59:...|2023-10-22 01:59:...|  true|        131|   Vale João Azevedo|     8|     Ala Sul|            da Rosa|  Lopes da Praia|    AL|             Espanha|65564-814|\n",
      "|        12|       Davi|        179|      Dias|1983-01-22 00:00:00|heloisa037394@exa...|(71) 49996-5156|(53) 91734-9403| 1672435943|     M|2023-10-22 01:59:...|2023-10-22 01:59:...|  true|        179|      Estrada da Luz|   979|   Garagem 1|      da Cruz Verde| Campos de Minas|    RS|            Botsuana| 49103065|\n",
      "|        13|   Stephany|        123|   Cardoso|1958-10-02 00:00:00|jesusesther4336@e...|(40) 96986-1005|(78) 75134-4146|63798402574|     F|2023-10-22 01:59:...|2023-10-22 01:59:...|  true|        123|        Lagoa Duarte|   796|       Box 2|Nogueira de Correia|           Pinto|    AL|              Mônaco| 65004933|\n",
      "|        14|      Laura|        118|   da Cruz|1957-07-26 00:00:00|maysaalves2332@ex...|(46) 68716-4102|(67) 88537-4949|23480765190|     M|2023-10-22 01:59:...|2023-10-22 01:59:...|  true|        118|        Pátio Santos|    62|Vila Mariana|     Cunha do Oeste|         da Cruz|    ES|             Somália| 59904125|\n",
      "|        15| Ana Sophia|        156|    da Luz|1974-07-05 00:00:00|aragaoluana6816@e...|(14) 92416-1668|(13) 73620-2140|35084619206|     M|2023-10-22 01:59:...|2023-10-22 01:59:...|  true|        156|       Área de Souza|   381|    Mezanino|         Nascimento|           Jesus|    MG|                Laos| 66012824|\n",
      "|        16|       Levi|         38|  Teixeira|1966-04-06 00:00:00|kevin309132@examp...|(92) 49813-1349|(98) 46928-5316|24073619896|     F|2023-10-22 01:59:...|2023-10-22 01:59:...|  true|         38|  Ladeira de Rezende|    94|     Andar 2|     Viana de Minas| Gomes do Amparo|    MG|               Palau|90507-959|\n",
      "|        17|      Alice|        104|  da Costa|1982-05-27 00:00:00|teixeiralucas7355...|(93) 69925-5720|(92) 64089-7342|67014389548|     F|2023-10-22 01:59:...|2023-10-22 01:59:...|  true|        104|    Praia de Martins|    13|       Box 2|             Campos|           Ramos|    PA|Ilhas Heard e McD...| 88248273|\n",
      "|        18|     Marina|        152|Nascimento|1997-06-23 00:00:00|aragaoraquel6201@...|(70) 51097-7401|(48) 26131-1471|51320647871|     F|2023-10-22 01:59:...|2023-10-22 01:59:...|  true|        152|Sítio Stephany Ar...|    41|     Sobrado|             Barros|         Correia|    MG|       Países Baixos|66931-124|\n",
      "|        19|     Danilo|         72|  Monteiro|1987-04-02 00:00:00|zviana4024@exampl...|(60) 60032-3404|(18) 69441-7413|80536241970|     F|2023-10-22 01:59:...|2023-10-22 01:59:...|  true|         72|      Lago de Santos|   651|  Pavilhão B|          Gonçalves|Azevedo de Goiás|    RS|           Hong Kong|46404-067|\n",
      "|        20|     Marina|         46|      Lima|1950-05-10 00:00:00|augusto093169@exa...|(13) 74635-9266|(75) 27979-5037|25439870610|     M|2023-10-22 01:59:...|2023-10-22 01:59:...|  true|         46|Feira Alexia da Mota|    50|     Ap. 101|              Jesus| Melo de Peixoto|    MT|República Centro-...| 83364383|\n",
      "+----------+-----------+-----------+----------+-------------------+--------------------+---------------+---------------+-----------+------+--------------------+--------------------+------+-----------+--------------------+------+------------+-------------------+----------------+------+--------------------+---------+\n",
      "only showing top 20 rows\n",
      "\n",
      "+----------+-----------+----------+--------------------+----------------+------+\n",
      "|id_cliente|       nome| sobrenome|                 rua|          cidade|estado|\n",
      "+----------+-----------+----------+--------------------+----------------+------+\n",
      "|         1|     Esther|  Teixeira|Trecho Fernanda d...|         Ribeiro|    PA|\n",
      "|         2|    Mariane|   Barbosa|Sítio Stephany Ar...|         Correia|    MG|\n",
      "|         3|Ana Vitória|     Moura|Passarela Anthony...|  da Mota Alegre|    MG|\n",
      "|         4|    Leandro|     Viana|      Favela Barbosa|   Duarte Grande|    MA|\n",
      "|         5|     Pietro|    Santos|   Recanto Fernandes|         Costela|    ES|\n",
      "|         6|    Clarice|    da Paz|      Sítio de Gomes|da Mata de Silva|    PE|\n",
      "|         7|Ana Vitória|  da Cunha|   Recanto Fernandes|         Costela|    ES|\n",
      "|         8| Ana Sophia|   da Mota|    Núcleo de Farias|        Silveira|    RR|\n",
      "|         9|   Leonardo|    Fogaça|Vale Marcela Moreira|   Farias Alegre|    RO|\n",
      "|        10|    Anthony|   Cardoso| Estrada de Teixeira|           Costa|    PB|\n",
      "|        11|    Natália|    Mendes|   Vale João Azevedo|  Lopes da Praia|    AL|\n",
      "|        12|       Davi|      Dias|      Estrada da Luz| Campos de Minas|    RS|\n",
      "|        13|   Stephany|   Cardoso|        Lagoa Duarte|           Pinto|    AL|\n",
      "|        14|      Laura|   da Cruz|        Pátio Santos|         da Cruz|    ES|\n",
      "|        15| Ana Sophia|    da Luz|       Área de Souza|           Jesus|    MG|\n",
      "|        16|       Levi|  Teixeira|  Ladeira de Rezende| Gomes do Amparo|    MG|\n",
      "|        17|      Alice|  da Costa|    Praia de Martins|           Ramos|    PA|\n",
      "|        18|     Marina|Nascimento|Sítio Stephany Ar...|         Correia|    MG|\n",
      "|        19|     Danilo|  Monteiro|      Lago de Santos|Azevedo de Goiás|    RS|\n",
      "|        20|     Marina|      Lima|Feira Alexia da Mota| Melo de Peixoto|    MT|\n",
      "+----------+-----------+----------+--------------------+----------------+------+\n",
      "only showing top 20 rows\n",
      "\n",
      "+----------+-----------+----------+--------------------+----------------+\n",
      "|id_cliente|       nome| sobrenome|                 rua|          cidade|\n",
      "+----------+-----------+----------+--------------------+----------------+\n",
      "|         1|     Esther|  Teixeira|Trecho Fernanda d...|         Ribeiro|\n",
      "|         2|    Mariane|   Barbosa|Sítio Stephany Ar...|         Correia|\n",
      "|         3|Ana Vitória|     Moura|Passarela Anthony...|  da Mota Alegre|\n",
      "|         4|    Leandro|     Viana|      Favela Barbosa|   Duarte Grande|\n",
      "|         5|     Pietro|    Santos|   Recanto Fernandes|         Costela|\n",
      "|         6|    Clarice|    da Paz|      Sítio de Gomes|da Mata de Silva|\n",
      "|         7|Ana Vitória|  da Cunha|   Recanto Fernandes|         Costela|\n",
      "|         8| Ana Sophia|   da Mota|    Núcleo de Farias|        Silveira|\n",
      "|         9|   Leonardo|    Fogaça|Vale Marcela Moreira|   Farias Alegre|\n",
      "|        10|    Anthony|   Cardoso| Estrada de Teixeira|           Costa|\n",
      "|        11|    Natália|    Mendes|   Vale João Azevedo|  Lopes da Praia|\n",
      "|        12|       Davi|      Dias|      Estrada da Luz| Campos de Minas|\n",
      "|        13|   Stephany|   Cardoso|        Lagoa Duarte|           Pinto|\n",
      "|        14|      Laura|   da Cruz|        Pátio Santos|         da Cruz|\n",
      "|        15| Ana Sophia|    da Luz|       Área de Souza|           Jesus|\n",
      "|        16|       Levi|  Teixeira|  Ladeira de Rezende| Gomes do Amparo|\n",
      "|        17|      Alice|  da Costa|    Praia de Martins|           Ramos|\n",
      "|        18|     Marina|Nascimento|Sítio Stephany Ar...|         Correia|\n",
      "|        19|     Danilo|  Monteiro|      Lago de Santos|Azevedo de Goiás|\n",
      "|        20|     Marina|      Lima|Feira Alexia da Mota| Melo de Peixoto|\n",
      "+----------+-----------+----------+--------------------+----------------+\n",
      "only showing top 20 rows\n",
      "\n"
     ]
    }
   ],
   "source": [
    "# Carregar os DataFrames\n",
    "clientes_df = spark.read.csv(\"arquivos/clientes.csv\", header=True, inferSchema=True)\n",
    "enderecos_df = spark.read.csv(\"arquivos/enderecos.csv\", header=True, inferSchema=True)\n",
    "\n",
    "# Inner Join\n",
    "inner_join_df = clientes_df.join(enderecos_df, clientes_df.id_endereco == enderecos_df.id_endereco)\n",
    "inner_join_df.show()\n",
    "\n",
    "# Inner Join com colunas selecionadas\n",
    "inner_join_df = clientes_df.join(enderecos_df, \"id_endereco\") \\\n",
    "                           .select(\"id_cliente\", \"nome\", \"sobrenome\", \"rua\", \"cidade\", \"estado\")\n",
    "inner_join_df.show()\n",
    "\n",
    "# Realiza o inner join usando todas as colunas das duas tabelas\n",
    "inner_join_df = clientes_df.join(enderecos_df, clientes_df.id_endereco == enderecos_df.id_endereco)\n",
    "# Após realizar o join, seleciona apenas as colunas desejadas para exibir\n",
    "inner_join_df.select(\"id_cliente\", \"nome\", \"sobrenome\", \"rua\", \"cidade\").show()\n"
   ]
  },
  {
   "cell_type": "code",
   "execution_count": 19,
   "id": "95a60ae8-60e9-47f0-9b2c-d6234e4a1907",
   "metadata": {
    "tags": []
   },
   "outputs": [
    {
     "name": "stdout",
     "output_type": "stream",
     "text": [
      "+------+-----------------+\n",
      "|genero|      idade_media|\n",
      "+------+-----------------+\n",
      "|     F|54.11494252873563|\n",
      "|     M|54.23893805309734|\n",
      "+------+-----------------+\n",
      "\n"
     ]
    }
   ],
   "source": [
    "from pyspark.sql import functions as F\n",
    "from pyspark.sql.functions import udf, col\n",
    "from pyspark.sql.types import IntegerType\n",
    "from datetime import datetime\n",
    "\n",
    "# Definindo uma UDF para calcular a idade\n",
    "def calculate_age(birthdate):\n",
    "    today = datetime.now()\n",
    "    birthdate = datetime.strptime(birthdate.split(\" \")[0], \"%Y-%m-%d\")\n",
    "    return today.year - birthdate.year - ((today.month, today.day) < (birthdate.month, birthdate.day))\n",
    "\n",
    "age_udf = udf(calculate_age, IntegerType())\n",
    "\n",
    "# Adicionando uma coluna de idade ao DataFrame\n",
    "clientes_df = clientes_df.withColumn(\"idade\", age_udf(col(\"data_nascimento\").cast(\"string\")))\n",
    "\n",
    "# Agregação Complexa: Calculando a média de idade por gênero\n",
    "clientes_df.groupBy(\"genero\").agg(F.avg(\"idade\").alias(\"idade_media\")).show()"
   ]
  },
  {
   "cell_type": "markdown",
   "id": "7d886de8-39b3-467e-bcd7-e59f38937595",
   "metadata": {},
   "source": [
    "## Exemplo no uso de Funções"
   ]
  },
  {
   "cell_type": "code",
   "execution_count": 25,
   "id": "3174c83c-8b1d-427d-93b5-052dc41dc94f",
   "metadata": {
    "tags": []
   },
   "outputs": [],
   "source": [
    "netflix_df = spark.read.csv(\"arquivos/netflix/Netflix Engagement.csv\", header=True, inferSchema=True)"
   ]
  },
  {
   "cell_type": "code",
   "execution_count": 27,
   "id": "7fa3641e-955e-41a0-8c5c-2df3b3c2a152",
   "metadata": {
    "tags": []
   },
   "outputs": [
    {
     "name": "stdout",
     "output_type": "stream",
     "text": [
      "+-----------------------------------------------------------------------+\n",
      "|Title                                                                  |\n",
      "+-----------------------------------------------------------------------+\n",
      "|The Night Agent: Season 1                                              |\n",
      "|Ginny & Georgia: Season 2                                              |\n",
      "|The Glory: Season 1 // 더 글로리: 시즌 1                               |\n",
      "|Wednesday: Season 1                                                    |\n",
      "|Queen Charlotte: A Bridgerton Story                                    |\n",
      "|You: Season 4                                                          |\n",
      "|La Reina del Sur: Season 3                                             |\n",
      "|Outer Banks: Season 3                                                  |\n",
      "|Ginny & Georgia: Season 1                                              |\n",
      "|FUBAR: Season 1                                                        |\n",
      "|Manifest: Season 4                                                     |\n",
      "|Kaleidoscope: Limited Series                                           |\n",
      "|Firefly Lane: Season 2                                                 |\n",
      "|The Mother                                                             |\n",
      "|Physical: 100: Season 1 // 피지컬: 100: 시즌 1                         |\n",
      "|Crash Course in Romance: Limited Series // 일타 스캔들: 리미티드 시리즈|\n",
      "|Love Is Blind: Season 4                                                |\n",
      "|BEEF: Season 1                                                         |\n",
      "|The Diplomat: Season 1                                                 |\n",
      "|Luther: The Fallen Sun                                                 |\n",
      "+-----------------------------------------------------------------------+\n",
      "only showing top 20 rows\n",
      "\n"
     ]
    }
   ],
   "source": [
    "netflix_df.select(F.col(\"Title\")).show(truncate=False)"
   ]
  },
  {
   "cell_type": "code",
   "execution_count": null,
   "id": "c33ee14c-444a-418d-8fa0-d3e39c55d0c9",
   "metadata": {},
   "outputs": [],
   "source": [
    "# Usando F.col()\n",
    "df.select(F.col(\"nome_da_coluna\"))\n",
    "\n",
    "# Referenciando diretamente pelo nome da coluna\n",
    "df.select(\"nome_da_coluna\")"
   ]
  },
  {
   "cell_type": "code",
   "execution_count": 29,
   "id": "269e6f0b-979e-4b09-bd47-88445b94fe86",
   "metadata": {
    "tags": []
   },
   "outputs": [
    {
     "name": "stdout",
     "output_type": "stream",
     "text": [
      "+-----------------------------------------------------------------------+-------+\n",
      "|Title                                                                  |Source |\n",
      "+-----------------------------------------------------------------------+-------+\n",
      "|The Night Agent: Season 1                                              |Netflix|\n",
      "|Ginny & Georgia: Season 2                                              |Netflix|\n",
      "|The Glory: Season 1 // 더 글로리: 시즌 1                               |Netflix|\n",
      "|Wednesday: Season 1                                                    |Netflix|\n",
      "|Queen Charlotte: A Bridgerton Story                                    |Netflix|\n",
      "|You: Season 4                                                          |Netflix|\n",
      "|La Reina del Sur: Season 3                                             |Netflix|\n",
      "|Outer Banks: Season 3                                                  |Netflix|\n",
      "|Ginny & Georgia: Season 1                                              |Netflix|\n",
      "|FUBAR: Season 1                                                        |Netflix|\n",
      "|Manifest: Season 4                                                     |Netflix|\n",
      "|Kaleidoscope: Limited Series                                           |Netflix|\n",
      "|Firefly Lane: Season 2                                                 |Netflix|\n",
      "|The Mother                                                             |Netflix|\n",
      "|Physical: 100: Season 1 // 피지컬: 100: 시즌 1                         |Netflix|\n",
      "|Crash Course in Romance: Limited Series // 일타 스캔들: 리미티드 시리즈|Netflix|\n",
      "|Love Is Blind: Season 4                                                |Netflix|\n",
      "|BEEF: Season 1                                                         |Netflix|\n",
      "|The Diplomat: Season 1                                                 |Netflix|\n",
      "|Luther: The Fallen Sun                                                 |Netflix|\n",
      "+-----------------------------------------------------------------------+-------+\n",
      "only showing top 20 rows\n",
      "\n"
     ]
    }
   ],
   "source": [
    "netflix_df.withColumn(\"Source\", F.lit(\"Netflix\")).select(\"Title\", \"Source\").show(truncate=False)"
   ]
  },
  {
   "cell_type": "code",
   "execution_count": 30,
   "id": "899c3b02-2b11-482e-a21e-48c4817a0ef6",
   "metadata": {
    "tags": []
   },
   "outputs": [
    {
     "name": "stdout",
     "output_type": "stream",
     "text": [
      "+------------------+\n",
      "|    Average Rating|\n",
      "+------------------+\n",
      "|6.5090563915060775|\n",
      "+------------------+\n",
      "\n"
     ]
    }
   ],
   "source": [
    "netflix_df.select(F.avg(\"Rating\").alias(\"Average Rating\")).show()"
   ]
  },
  {
   "cell_type": "code",
   "execution_count": 31,
   "id": "b5b21a64-f9a1-41d8-a9c6-fb8b136a4d3e",
   "metadata": {
    "tags": []
   },
   "outputs": [
    {
     "name": "stdout",
     "output_type": "stream",
     "text": [
      "+------------------+\n",
      "|Total Hours Viewed|\n",
      "+------------------+\n",
      "|       93863600000|\n",
      "+------------------+\n",
      "\n"
     ]
    }
   ],
   "source": [
    "netflix_df.select(F.sum(\"Hours Viewed\").alias(\"Total Hours Viewed\")).show()"
   ]
  },
  {
   "cell_type": "code",
   "execution_count": 32,
   "id": "17adc06c-7f25-4524-8921-e2f7be2d98aa",
   "metadata": {
    "tags": []
   },
   "outputs": [
    {
     "name": "stdout",
     "output_type": "stream",
     "text": [
      "+----------+----------+\n",
      "|Max Rating|Min Rating|\n",
      "+----------+----------+\n",
      "|      10.0|       1.2|\n",
      "+----------+----------+\n",
      "\n"
     ]
    }
   ],
   "source": [
    "netflix_df.select(F.max(\"Rating\").alias(\"Max Rating\"), F.min(\"Rating\").alias(\"Min Rating\")).show()"
   ]
  },
  {
   "cell_type": "code",
   "execution_count": 33,
   "id": "0cce3ba8-85d3-4c0f-9c9e-e15a7ef0af41",
   "metadata": {
    "tags": []
   },
   "outputs": [
    {
     "name": "stdout",
     "output_type": "stream",
     "text": [
      "+------------+\n",
      "|Total Titles|\n",
      "+------------+\n",
      "|       18334|\n",
      "+------------+\n",
      "\n"
     ]
    }
   ],
   "source": [
    "netflix_df.select(F.count(\"Title\").alias(\"Total Titles\")).show()"
   ]
  },
  {
   "cell_type": "code",
   "execution_count": 38,
   "id": "a24a3475-c7a3-45df-be55-74066cf8f6ee",
   "metadata": {
    "tags": []
   },
   "outputs": [
    {
     "name": "stdout",
     "output_type": "stream",
     "text": [
      "+-----------------------------------------------------------------------+------+------------+\n",
      "|Title                                                                  |Rating|Highly Rated|\n",
      "+-----------------------------------------------------------------------+------+------------+\n",
      "|The Night Agent: Season 1                                              |6.0   |No          |\n",
      "|Ginny & Georgia: Season 2                                              |5.7   |No          |\n",
      "|The Glory: Season 1 // 더 글로리: 시즌 1                               |8.4   |Yes         |\n",
      "|Wednesday: Season 1                                                    |null  |No          |\n",
      "|Queen Charlotte: A Bridgerton Story                                    |7.4   |No          |\n",
      "|You: Season 4                                                          |6.6   |No          |\n",
      "|La Reina del Sur: Season 3                                             |7.9   |No          |\n",
      "|Outer Banks: Season 3                                                  |null  |No          |\n",
      "|Ginny & Georgia: Season 1                                              |5.7   |No          |\n",
      "|FUBAR: Season 1                                                        |7.6   |No          |\n",
      "|Manifest: Season 4                                                     |null  |No          |\n",
      "|Kaleidoscope: Limited Series                                           |null  |No          |\n",
      "|Firefly Lane: Season 2                                                 |null  |No          |\n",
      "|The Mother                                                             |5.6   |No          |\n",
      "|Physical: 100: Season 1 // 피지컬: 100: 시즌 1                         |null  |No          |\n",
      "|Crash Course in Romance: Limited Series // 일타 스캔들: 리미티드 시리즈|7.8   |No          |\n",
      "|Love Is Blind: Season 4                                                |null  |No          |\n",
      "|BEEF: Season 1                                                         |5.5   |No          |\n",
      "|The Diplomat: Season 1                                                 |8.9   |Yes         |\n",
      "|Luther: The Fallen Sun                                                 |6.4   |No          |\n",
      "+-----------------------------------------------------------------------+------+------------+\n",
      "only showing top 20 rows\n",
      "\n"
     ]
    }
   ],
   "source": [
    "netflix_df.withColumn(\"Highly Rated\", F.when(F.col(\"Rating\") >= 8, \"Yes\") \\\n",
    "                                       .otherwise(\"No\")) \\\n",
    "                                       .select(\"Title\", \"Rating\", \"Highly Rated\") \\\n",
    "                                       .show(truncate=False)"
   ]
  },
  {
   "cell_type": "code",
   "execution_count": 41,
   "id": "ebcc7ee9-bcc2-4c82-ad35-756c41b37ca6",
   "metadata": {
    "tags": []
   },
   "outputs": [
    {
     "name": "stdout",
     "output_type": "stream",
     "text": [
      "+--------------------------------------------------------------------------------------------------------+\n",
      "|Title and Genre                                                                                         |\n",
      "+--------------------------------------------------------------------------------------------------------+\n",
      "|The Night Agent: Season 1 - ['Biography', 'Drama', 'History']                                           |\n",
      "|Ginny & Georgia: Season 2 - ['Comedy', 'Drama', 'Romance']                                              |\n",
      "|The Glory: Season 1 // 더 글로리: 시즌 1 - ['Short']                                                    |\n",
      "|Wednesday: Season 1 - ['Talk-Show']                                                                     |\n",
      "|Queen Charlotte: A Bridgerton Story - ['Drama', 'History', 'Romance']                                   |\n",
      "|You: Season 4 - ['Comedy', 'Romance']                                                                   |\n",
      "|La Reina del Sur: Season 3 - ['Action', 'Crime', 'Drama']                                               |\n",
      "|Outer Banks: Season 3                                                                                   |\n",
      "|Ginny & Georgia: Season 1 - ['Comedy', 'Drama', 'Romance']                                              |\n",
      "|FUBAR: Season 1 - ['Short', 'Comedy']                                                                   |\n",
      "|Manifest: Season 4 - ['Documentary', 'Short']                                                           |\n",
      "|Kaleidoscope: Limited Series                                                                            |\n",
      "|Firefly Lane: Season 2                                                                                  |\n",
      "|The Mother - ['Action', 'Thriller']                                                                     |\n",
      "|Physical: 100: Season 1 // 피지컬: 100: 시즌 1                                                          |\n",
      "|Crash Course in Romance: Limited Series // 일타 스캔들: 리미티드 시리즈 - ['Comedy', 'Drama', 'Romance']|\n",
      "|Love Is Blind: Season 4                                                                                 |\n",
      "|BEEF: Season 1 - ['Drama', 'Family']                                                                    |\n",
      "|The Diplomat: Season 1 - ['Short']                                                                      |\n",
      "|Luther: The Fallen Sun - ['Crime', 'Drama', 'Mystery']                                                  |\n",
      "+--------------------------------------------------------------------------------------------------------+\n",
      "only showing top 20 rows\n",
      "\n"
     ]
    }
   ],
   "source": [
    "netflix_df.withColumn(\"Title and Genre\", F.concat_ws(\" - \", \"Title\", \"Genre\")) \\\n",
    "          .select(\"Title and Genre\") \\\n",
    "          .show(truncate=False)"
   ]
  },
  {
   "cell_type": "code",
   "execution_count": 43,
   "id": "928a9503-c5fb-435a-a9f4-bc7f3309e617",
   "metadata": {
    "tags": []
   },
   "outputs": [
    {
     "name": "stdout",
     "output_type": "stream",
     "text": [
      "+-------------------+----------------------+\n",
      "|       Release Date|Formatted Release Date|\n",
      "+-------------------+----------------------+\n",
      "|2023-03-23 00:00:00|            23/03/2023|\n",
      "|2023-01-05 00:00:00|            05/01/2023|\n",
      "|2022-12-30 00:00:00|            30/12/2022|\n",
      "|2022-11-23 00:00:00|            23/11/2022|\n",
      "|2023-05-04 00:00:00|            04/05/2023|\n",
      "|2023-02-09 00:00:00|            09/02/2023|\n",
      "|2022-12-30 00:00:00|            30/12/2022|\n",
      "|2023-02-23 00:00:00|            23/02/2023|\n",
      "|2021-02-24 00:00:00|            24/02/2021|\n",
      "|2023-05-25 00:00:00|            25/05/2023|\n",
      "|2022-11-04 00:00:00|            04/11/2022|\n",
      "|2023-01-01 00:00:00|            01/01/2023|\n",
      "|2022-12-02 00:00:00|            02/12/2022|\n",
      "|2023-05-12 00:00:00|            12/05/2023|\n",
      "|2023-01-24 00:00:00|            24/01/2023|\n",
      "|2023-01-14 00:00:00|            14/01/2023|\n",
      "|2023-03-24 00:00:00|            24/03/2023|\n",
      "|2023-04-06 00:00:00|            06/04/2023|\n",
      "|2023-04-20 00:00:00|            20/04/2023|\n",
      "|2023-03-10 00:00:00|            10/03/2023|\n",
      "+-------------------+----------------------+\n",
      "only showing top 20 rows\n",
      "\n"
     ]
    }
   ],
   "source": [
    "netflix_df.withColumn(\"Formatted Release Date\", F.date_format(\"Release Date\", \"dd/MM/yyyy\")) \\\n",
    "          .select(\"Release Date\", \"Formatted Release Date\") \\\n",
    "          .show()"
   ]
  },
  {
   "cell_type": "code",
   "execution_count": 44,
   "id": "9782a2a9-457d-4642-ba80-de58caf7f3d7",
   "metadata": {
    "tags": []
   },
   "outputs": [
    {
     "name": "stdout",
     "output_type": "stream",
     "text": [
      "+-------------------+-------------------+\n",
      "|       Release Date|  Release Timestamp|\n",
      "+-------------------+-------------------+\n",
      "|2023-03-23 00:00:00|2023-03-23 00:00:00|\n",
      "|2023-01-05 00:00:00|2023-01-05 00:00:00|\n",
      "|2022-12-30 00:00:00|2022-12-30 00:00:00|\n",
      "|2022-11-23 00:00:00|2022-11-23 00:00:00|\n",
      "|2023-05-04 00:00:00|2023-05-04 00:00:00|\n",
      "|2023-02-09 00:00:00|2023-02-09 00:00:00|\n",
      "|2022-12-30 00:00:00|2022-12-30 00:00:00|\n",
      "|2023-02-23 00:00:00|2023-02-23 00:00:00|\n",
      "|2021-02-24 00:00:00|2021-02-24 00:00:00|\n",
      "|2023-05-25 00:00:00|2023-05-25 00:00:00|\n",
      "|2022-11-04 00:00:00|2022-11-04 00:00:00|\n",
      "|2023-01-01 00:00:00|2023-01-01 00:00:00|\n",
      "|2022-12-02 00:00:00|2022-12-02 00:00:00|\n",
      "|2023-05-12 00:00:00|2023-05-12 00:00:00|\n",
      "|2023-01-24 00:00:00|2023-01-24 00:00:00|\n",
      "|2023-01-14 00:00:00|2023-01-14 00:00:00|\n",
      "|2023-03-24 00:00:00|2023-03-24 00:00:00|\n",
      "|2023-04-06 00:00:00|2023-04-06 00:00:00|\n",
      "|2023-04-20 00:00:00|2023-04-20 00:00:00|\n",
      "|2023-03-10 00:00:00|2023-03-10 00:00:00|\n",
      "+-------------------+-------------------+\n",
      "only showing top 20 rows\n",
      "\n"
     ]
    }
   ],
   "source": [
    "netflix_df.withColumn(\"Release Timestamp\", F.to_timestamp(\"Release Date\", \"yyyy-MM-dd\")) \\\n",
    "          .select(\"Release Date\", \"Release Timestamp\") \\\n",
    "          .show()"
   ]
  },
  {
   "cell_type": "code",
   "execution_count": 47,
   "id": "818064c5-e646-45e9-b613-187dab6aed85",
   "metadata": {
    "tags": []
   },
   "outputs": [
    {
     "name": "stdout",
     "output_type": "stream",
     "text": [
      "+-----------------------------------------------------------------------+-------------------+-------------------+\n",
      "|Title                                                                  |Release Date       |Years Since Release|\n",
      "+-----------------------------------------------------------------------+-------------------+-------------------+\n",
      "|The Night Agent: Season 1                                              |2023-03-23 00:00:00|0                  |\n",
      "|Ginny & Georgia: Season 2                                              |2023-01-05 00:00:00|0                  |\n",
      "|The Glory: Season 1 // 더 글로리: 시즌 1                               |2022-12-30 00:00:00|1                  |\n",
      "|Wednesday: Season 1                                                    |2022-11-23 00:00:00|1                  |\n",
      "|Queen Charlotte: A Bridgerton Story                                    |2023-05-04 00:00:00|0                  |\n",
      "|You: Season 4                                                          |2023-02-09 00:00:00|0                  |\n",
      "|La Reina del Sur: Season 3                                             |2022-12-30 00:00:00|1                  |\n",
      "|Outer Banks: Season 3                                                  |2023-02-23 00:00:00|0                  |\n",
      "|Ginny & Georgia: Season 1                                              |2021-02-24 00:00:00|2                  |\n",
      "|FUBAR: Season 1                                                        |2023-05-25 00:00:00|0                  |\n",
      "|Manifest: Season 4                                                     |2022-11-04 00:00:00|1                  |\n",
      "|Kaleidoscope: Limited Series                                           |2023-01-01 00:00:00|0                  |\n",
      "|Firefly Lane: Season 2                                                 |2022-12-02 00:00:00|1                  |\n",
      "|The Mother                                                             |2023-05-12 00:00:00|0                  |\n",
      "|Physical: 100: Season 1 // 피지컬: 100: 시즌 1                         |2023-01-24 00:00:00|0                  |\n",
      "|Crash Course in Romance: Limited Series // 일타 스캔들: 리미티드 시리즈|2023-01-14 00:00:00|0                  |\n",
      "|Love Is Blind: Season 4                                                |2023-03-24 00:00:00|0                  |\n",
      "|BEEF: Season 1                                                         |2023-04-06 00:00:00|0                  |\n",
      "|The Diplomat: Season 1                                                 |2023-04-20 00:00:00|0                  |\n",
      "|Luther: The Fallen Sun                                                 |2023-03-10 00:00:00|0                  |\n",
      "+-----------------------------------------------------------------------+-------------------+-------------------+\n",
      "only showing top 20 rows\n",
      "\n"
     ]
    }
   ],
   "source": [
    "from pyspark.sql import SparkSession\n",
    "from pyspark.sql.functions import udf, col\n",
    "from pyspark.sql.types import IntegerType\n",
    "from datetime import datetime\n",
    "\n",
    "# Criando a SparkSession\n",
    "spark = SparkSession.builder.appName(\"Netflix Analysis\").getOrCreate()\n",
    "\n",
    "# Carregando os dados\n",
    "netflix_df = spark.read.csv(\"arquivos/netflix/Netflix Engagement.csv\", header=True, inferSchema=True)\n",
    "\n",
    "# Definindo a função para calcular os anos desde a data de lançamento\n",
    "def years_since(release_date):\n",
    "    if release_date is None:\n",
    "        # Lidar com valores nulos\n",
    "        return None\n",
    "    elif isinstance(release_date, datetime):\n",
    "        # Se release_date já for um objeto datetime\n",
    "        release_year = release_date.year\n",
    "    else:\n",
    "        # Se release_date for uma string\n",
    "        release_date = datetime.strptime(release_date, \"%Y-%m-%d\")\n",
    "        release_year = release_date.year\n",
    "    \n",
    "    return datetime.now().year - release_year\n",
    "\n",
    "# Registrando a UDF\n",
    "years_since_udf = udf(years_since, IntegerType())\n",
    "\n",
    "# Aplicando a UDF ao DataFrame\n",
    "netflix_df = netflix_df.withColumn(\"Years Since Release\", years_since_udf(col(\"Release Date\")))\n",
    "netflix_df.select(\"Title\", \"Release Date\", \"Years Since Release\").show(truncate=False)"
   ]
  },
  {
   "cell_type": "code",
   "execution_count": 54,
   "id": "417be011-e681-4ffc-ba3e-bb663fdcbb5f",
   "metadata": {
    "tags": []
   },
   "outputs": [
    {
     "name": "stdout",
     "output_type": "stream",
     "text": [
      "+-----------------------------------------------------------------------+---------------------------------+\n",
      "|Title                                                                  |Genre                            |\n",
      "+-----------------------------------------------------------------------+---------------------------------+\n",
      "|The Night Agent: Season 1                                              |['Biography', 'Drama', 'History']|\n",
      "|Ginny & Georgia: Season 2                                              |['Comedy', 'Drama', 'Romance']   |\n",
      "|The Glory: Season 1 // 더 글로리: 시즌 1                               |['Short']                        |\n",
      "|Wednesday: Season 1                                                    |['Talk-Show']                    |\n",
      "|Queen Charlotte: A Bridgerton Story                                    |['Drama', 'History', 'Romance']  |\n",
      "|You: Season 4                                                          |['Comedy', 'Romance']            |\n",
      "|La Reina del Sur: Season 3                                             |['Action', 'Crime', 'Drama']     |\n",
      "|Outer Banks: Season 3                                                  |null                             |\n",
      "|Ginny & Georgia: Season 1                                              |['Comedy', 'Drama', 'Romance']   |\n",
      "|FUBAR: Season 1                                                        |['Short', 'Comedy']              |\n",
      "|Manifest: Season 4                                                     |['Documentary', 'Short']         |\n",
      "|Kaleidoscope: Limited Series                                           |null                             |\n",
      "|Firefly Lane: Season 2                                                 |null                             |\n",
      "|The Mother                                                             |['Action', 'Thriller']           |\n",
      "|Physical: 100: Season 1 // 피지컬: 100: 시즌 1                         |null                             |\n",
      "|Crash Course in Romance: Limited Series // 일타 스캔들: 리미티드 시리즈|['Comedy', 'Drama', 'Romance']   |\n",
      "|Love Is Blind: Season 4                                                |null                             |\n",
      "|BEEF: Season 1                                                         |['Drama', 'Family']              |\n",
      "|The Diplomat: Season 1                                                 |['Short']                        |\n",
      "|Luther: The Fallen Sun                                                 |['Crime', 'Drama', 'Mystery']    |\n",
      "+-----------------------------------------------------------------------+---------------------------------+\n",
      "only showing top 20 rows\n",
      "\n",
      "+----------------------------------------+------------+\n",
      "|Title                                   |Single Genre|\n",
      "+----------------------------------------+------------+\n",
      "|The Night Agent: Season 1               |Biography   |\n",
      "|The Night Agent: Season 1               |Drama       |\n",
      "|The Night Agent: Season 1               |History     |\n",
      "|Ginny & Georgia: Season 2               |Comedy      |\n",
      "|Ginny & Georgia: Season 2               |Drama       |\n",
      "|Ginny & Georgia: Season 2               |Romance     |\n",
      "|The Glory: Season 1 // 더 글로리: 시즌 1|Short       |\n",
      "|Wednesday: Season 1                     |Talk-Show   |\n",
      "|Queen Charlotte: A Bridgerton Story     |Drama       |\n",
      "|Queen Charlotte: A Bridgerton Story     |History     |\n",
      "|Queen Charlotte: A Bridgerton Story     |Romance     |\n",
      "|You: Season 4                           |Comedy      |\n",
      "|You: Season 4                           |Romance     |\n",
      "|La Reina del Sur: Season 3              |Action      |\n",
      "|La Reina del Sur: Season 3              |Crime       |\n",
      "|La Reina del Sur: Season 3              |Drama       |\n",
      "|Ginny & Georgia: Season 1               |Comedy      |\n",
      "|Ginny & Georgia: Season 1               |Drama       |\n",
      "|Ginny & Georgia: Season 1               |Romance     |\n",
      "|FUBAR: Season 1                         |Short       |\n",
      "+----------------------------------------+------------+\n",
      "only showing top 20 rows\n",
      "\n"
     ]
    }
   ],
   "source": [
    "from pyspark.sql.functions import from_json, explode, col\n",
    "from pyspark.sql.types import ArrayType, StringType\n",
    "\n",
    "# Selecionando a coluna original e a coluna transformada\n",
    "netflix_df.select(\"Title\", \"Genre\").show(truncate=False)\n",
    "\n",
    "# Supondo que a coluna 'Genre' esteja no formato de string que representa uma lista Python\n",
    "# Convertendo a string em uma coluna de array\n",
    "json_schema = ArrayType(StringType())\n",
    "netflix_df = netflix_df.withColumn(\"Genre Array\", from_json(\"Genre\", json_schema))\n",
    "\n",
    "# Explodindo a coluna de array para transformar cada elemento em uma linha separada\n",
    "netflix_df.withColumn(\"Single Genre\", explode(\"Genre Array\")) \\\n",
    "          .select(\"Title\", \"Single Genre\") \\\n",
    "          .show(truncate=False)"
   ]
  },
  {
   "cell_type": "code",
   "execution_count": 61,
   "id": "fd12ce2a-43dc-4744-a8c4-7756345a7e68",
   "metadata": {
    "tags": []
   },
   "outputs": [
    {
     "name": "stdout",
     "output_type": "stream",
     "text": [
      "+----------------------------+\n",
      "|frase                       |\n",
      "+----------------------------+\n",
      "|eu viajo, muito, pelo, mundo|\n",
      "+----------------------------+\n",
      "\n",
      "+----------------------------+------------------------------+\n",
      "|frase                       |palavras                      |\n",
      "+----------------------------+------------------------------+\n",
      "|eu viajo, muito, pelo, mundo|[eu viajo, muito, pelo, mundo]|\n",
      "+----------------------------+------------------------------+\n",
      "\n",
      "+--------+\n",
      "|palavra |\n",
      "+--------+\n",
      "|eu viajo|\n",
      "|muito   |\n",
      "|pelo    |\n",
      "|mundo   |\n",
      "+--------+\n",
      "\n"
     ]
    }
   ],
   "source": [
    "from pyspark.sql import SparkSession\n",
    "from pyspark.sql.functions import split, explode\n",
    "\n",
    "# Criando uma SparkSession\n",
    "spark = SparkSession.builder.appName(\"SplitExample\").getOrCreate()\n",
    "\n",
    "# Criando um DataFrame de exemplo\n",
    "data = [(\"eu viajo, muito, pelo, mundo\",)]\n",
    "df = spark.createDataFrame(data, [\"frase\"])\n",
    "\n",
    "df.show(truncate=False)\n",
    "\n",
    "# Dividindo a frase em palavras com base na vírgula\n",
    "# Removendo os colchetes e aspas da string antes de dividir\n",
    "df = df.withColumn(\"palavras\", split(df[\"frase\"], \", \"))\n",
    "\n",
    "df.show(truncate=False)\n",
    "\n",
    "# Explodindo a lista para ter cada palavra em uma linha separada\n",
    "df = df.withColumn(\"palavra\", explode(\"palavras\"))\n",
    "\n",
    "# Exibindo o resultado\n",
    "df.select(\"palavra\").show(truncate=False)"
   ]
  },
  {
   "cell_type": "code",
   "execution_count": 64,
   "id": "ab667a1f-c979-4aa9-b165-d9061143a2a6",
   "metadata": {
    "tags": []
   },
   "outputs": [
    {
     "name": "stdout",
     "output_type": "stream",
     "text": [
      "+------------------------------------------+------------------+\n",
      "|window                                    |Total Hours Viewed|\n",
      "+------------------------------------------+------------------+\n",
      "|{2010-04-01 00:00:00, 2010-05-01 00:00:00}|35900000          |\n",
      "|{2010-08-29 00:00:00, 2010-09-28 00:00:00}|33200000          |\n",
      "|{2011-02-25 00:00:00, 2011-03-27 00:00:00}|12300000          |\n",
      "|{2011-08-24 00:00:00, 2011-09-23 00:00:00}|94700000          |\n",
      "|{2012-01-21 00:00:00, 2012-02-20 00:00:00}|3500000           |\n",
      "|{2013-01-15 00:00:00, 2013-02-14 00:00:00}|20000000          |\n",
      "|{2013-02-14 00:00:00, 2013-03-16 00:00:00}|20100000          |\n",
      "|{2013-05-15 00:00:00, 2013-06-14 00:00:00}|16200000          |\n",
      "|{2013-06-14 00:00:00, 2013-07-14 00:00:00}|48800000          |\n",
      "|{2013-07-14 00:00:00, 2013-08-13 00:00:00}|24700000          |\n",
      "|{2013-08-13 00:00:00, 2013-09-12 00:00:00}|2400000           |\n",
      "|{2013-09-12 00:00:00, 2013-10-12 00:00:00}|900000            |\n",
      "|{2013-10-12 00:00:00, 2013-11-11 00:00:00}|100000            |\n",
      "|{2013-12-11 00:00:00, 2014-01-10 00:00:00}|15500000          |\n",
      "|{2014-01-10 00:00:00, 2014-02-09 00:00:00}|4700000           |\n",
      "|{2014-02-09 00:00:00, 2014-03-11 00:00:00}|13500000          |\n",
      "|{2014-05-10 00:00:00, 2014-06-09 00:00:00}|38900000          |\n",
      "|{2014-06-09 00:00:00, 2014-07-09 00:00:00}|15900000          |\n",
      "|{2014-07-09 00:00:00, 2014-08-08 00:00:00}|400000            |\n",
      "|{2014-08-08 00:00:00, 2014-09-07 00:00:00}|22000000          |\n",
      "+------------------------------------------+------------------+\n",
      "only showing top 20 rows\n",
      "\n"
     ]
    }
   ],
   "source": [
    "from pyspark.sql import SparkSession\n",
    "from pyspark.sql import functions as F\n",
    "\n",
    "# Criando a SparkSession\n",
    "spark = SparkSession.builder.appName(\"Netflix Analysis\").getOrCreate()\n",
    "\n",
    "# Carregando os dados\n",
    "netflix_df = spark.read.csv(\"arquivos/netflix/Netflix Engagement.csv\", header=True, inferSchema=True)\n",
    "\n",
    "# Definindo a janela de tempo para agrupamento de aproximadamente 30 dias\n",
    "window_spec = F.window(\"Release Date\", \"30 days\")\n",
    "\n",
    "# Agrupando as visualizações por janela de tempo\n",
    "monthly_views_df = netflix_df.groupBy(window_spec).agg(F.sum(\"Hours Viewed\").alias(\"Total Hours Viewed\"))\n",
    "\n",
    "# Ordenando os resultados por janela de tempo\n",
    "monthly_views_ordered_df = monthly_views_df.orderBy(\"window\")\n",
    "\n",
    "# Exibindo os resultados ordenados\n",
    "monthly_views_ordered_df.select(\"window\", \"Total Hours Viewed\").show(truncate=False)\n"
   ]
  },
  {
   "cell_type": "code",
   "execution_count": null,
   "id": "86fd5905-16c1-458e-8f11-04ae56255684",
   "metadata": {},
   "outputs": [],
   "source": [
    "F.window(timeColumn, windowDuration, slideDuration=None, startTime=None)"
   ]
  },
  {
   "cell_type": "code",
   "execution_count": null,
   "id": "1069882c-0ac1-49bb-918f-991a20f33003",
   "metadata": {},
   "outputs": [],
   "source": [
    "from pyspark.sql.functions import window, col\n",
    "\n",
    "views_df = ... # um DataFrame com uma coluna de timestamp chamada 'view_time'\n",
    "views_df.groupBy(window(col(\"view_time\"), \"1 hour\")) \\\n",
    "        .agg(sum(\"views\").alias(\"total_views\")) \\\n",
    "        .show()"
   ]
  },
  {
   "cell_type": "code",
   "execution_count": 66,
   "id": "364906fe-cf3e-468f-a8a9-18f03ca1c6c2",
   "metadata": {
    "tags": []
   },
   "outputs": [
    {
     "name": "stdout",
     "output_type": "stream",
     "text": [
      "+-----------------------------------------------------------------------+------------+\n",
      "|Title                                                                  |Hours Viewed|\n",
      "+-----------------------------------------------------------------------+------------+\n",
      "|The Night Agent: Season 1                                              |812100000   |\n",
      "|Ginny & Georgia: Season 2                                              |665100000   |\n",
      "|The Glory: Season 1 // 더 글로리: 시즌 1                               |622800000   |\n",
      "|Wednesday: Season 1                                                    |507700000   |\n",
      "|Queen Charlotte: A Bridgerton Story                                    |503000000   |\n",
      "|You: Season 4                                                          |440600000   |\n",
      "|La Reina del Sur: Season 3                                             |429600000   |\n",
      "|Outer Banks: Season 3                                                  |402500000   |\n",
      "|Ginny & Georgia: Season 1                                              |302100000   |\n",
      "|FUBAR: Season 1                                                        |266200000   |\n",
      "|Manifest: Season 4                                                     |262600000   |\n",
      "|Kaleidoscope: Limited Series                                           |252500000   |\n",
      "|Firefly Lane: Season 2                                                 |251500000   |\n",
      "|The Mother                                                             |249900000   |\n",
      "|Physical: 100: Season 1 // 피지컬: 100: 시즌 1                         |235000000   |\n",
      "|Crash Course in Romance: Limited Series // 일타 스캔들: 리미티드 시리즈|234800000   |\n",
      "|Love Is Blind: Season 4                                                |229700000   |\n",
      "|BEEF: Season 1                                                         |221100000   |\n",
      "|The Diplomat: Season 1                                                 |214100000   |\n",
      "|Luther: The Fallen Sun                                                 |209700000   |\n",
      "+-----------------------------------------------------------------------+------------+\n",
      "only showing top 20 rows\n",
      "\n"
     ]
    }
   ],
   "source": [
    "netflix_cast = netflix_df.withColumn(\"Hours Viewed\", netflix_df[\"Hours Viewed\"].cast(\"integer\"))\n",
    "netflix_cast.select(\"Title\",\"Hours Viewed\").show(truncate=False)"
   ]
  },
  {
   "cell_type": "code",
   "execution_count": 72,
   "id": "baa34390-98c8-47ef-8c7d-ce9e2a505298",
   "metadata": {
    "tags": []
   },
   "outputs": [
    {
     "name": "stdout",
     "output_type": "stream",
     "text": [
      "+--------------------------------------------------------------------------------------------------------+\n",
      "|Usando concat                                                                                           |\n",
      "+--------------------------------------------------------------------------------------------------------+\n",
      "|The Night Agent: Season 1 - ['Biography', 'Drama', 'History']                                           |\n",
      "|Ginny & Georgia: Season 2 - ['Comedy', 'Drama', 'Romance']                                              |\n",
      "|The Glory: Season 1 // 더 글로리: 시즌 1 - ['Short']                                                    |\n",
      "|Wednesday: Season 1 - ['Talk-Show']                                                                     |\n",
      "|Queen Charlotte: A Bridgerton Story - ['Drama', 'History', 'Romance']                                   |\n",
      "|You: Season 4 - ['Comedy', 'Romance']                                                                   |\n",
      "|La Reina del Sur: Season 3 - ['Action', 'Crime', 'Drama']                                               |\n",
      "|null                                                                                                    |\n",
      "|Ginny & Georgia: Season 1 - ['Comedy', 'Drama', 'Romance']                                              |\n",
      "|FUBAR: Season 1 - ['Short', 'Comedy']                                                                   |\n",
      "|Manifest: Season 4 - ['Documentary', 'Short']                                                           |\n",
      "|null                                                                                                    |\n",
      "|null                                                                                                    |\n",
      "|The Mother - ['Action', 'Thriller']                                                                     |\n",
      "|null                                                                                                    |\n",
      "|Crash Course in Romance: Limited Series // 일타 스캔들: 리미티드 시리즈 - ['Comedy', 'Drama', 'Romance']|\n",
      "|null                                                                                                    |\n",
      "|BEEF: Season 1 - ['Drama', 'Family']                                                                    |\n",
      "|The Diplomat: Season 1 - ['Short']                                                                      |\n",
      "|Luther: The Fallen Sun - ['Crime', 'Drama', 'Mystery']                                                  |\n",
      "+--------------------------------------------------------------------------------------------------------+\n",
      "only showing top 20 rows\n",
      "\n",
      "+------------------------------------------------------------------------------------------------+\n",
      "|Usando regexp_replace                                                                           |\n",
      "+------------------------------------------------------------------------------------------------+\n",
      "|The Night Agent: Season 1 - Biography, Drama, History                                           |\n",
      "|Ginny & Georgia: Season 2 - Comedy, Drama, Romance                                              |\n",
      "|The Glory: Season 1 // 더 글로리: 시즌 1 - Short                                                |\n",
      "|Wednesday: Season 1 - Talk-Show                                                                 |\n",
      "|Queen Charlotte: A Bridgerton Story - Drama, History, Romance                                   |\n",
      "|You: Season 4 - Comedy, Romance                                                                 |\n",
      "|La Reina del Sur: Season 3 - Action, Crime, Drama                                               |\n",
      "|null                                                                                            |\n",
      "|Ginny & Georgia: Season 1 - Comedy, Drama, Romance                                              |\n",
      "|FUBAR: Season 1 - Short, Comedy                                                                 |\n",
      "|Manifest: Season 4 - Documentary, Short                                                         |\n",
      "|null                                                                                            |\n",
      "|null                                                                                            |\n",
      "|The Mother - Action, Thriller                                                                   |\n",
      "|null                                                                                            |\n",
      "|Crash Course in Romance: Limited Series // 일타 스캔들: 리미티드 시리즈 - Comedy, Drama, Romance|\n",
      "|null                                                                                            |\n",
      "|BEEF: Season 1 - Drama, Family                                                                  |\n",
      "|The Diplomat: Season 1 - Short                                                                  |\n",
      "|Luther: The Fallen Sun - Crime, Drama, Mystery                                                  |\n",
      "+------------------------------------------------------------------------------------------------+\n",
      "only showing top 20 rows\n",
      "\n"
     ]
    }
   ],
   "source": [
    "from pyspark.sql.functions import concat, regexp_replace, lit\n",
    "\n",
    "netflix_df = netflix_df.withColumn(\"Usando concat\", concat(netflix_df[\"Title\"], lit(\" - \"), netflix_df[\"Genre\"]))\n",
    "netflix_df.select(\"Usando concat\").show(truncate=False)\n",
    "\n",
    "\n",
    "netflix_df = netflix_df.withColumn(\"Usando regexp_replace\", regexp_replace(\"Usando concat\", \"[\\\\[\\\\]']\", \"\"))\n",
    "netflix_df.select(\"Usando regexp_replace\").show(truncate=False)"
   ]
  },
  {
   "cell_type": "code",
   "execution_count": 77,
   "id": "5419f42e-8bc3-468f-8f71-dbd9758130d6",
   "metadata": {
    "tags": []
   },
   "outputs": [
    {
     "name": "stdout",
     "output_type": "stream",
     "text": [
      "+------------+------------------+-------------+\n",
      "|Release Date|Days Since Release|30 Days Later|\n",
      "+------------+------------------+-------------+\n",
      "|2023-03-23  |276               |2023-04-22   |\n",
      "|2023-01-05  |353               |2023-02-04   |\n",
      "|2022-12-30  |359               |2023-01-29   |\n",
      "|2022-11-23  |396               |2022-12-23   |\n",
      "|2023-05-04  |234               |2023-06-03   |\n",
      "|2023-02-09  |318               |2023-03-11   |\n",
      "|2022-12-30  |359               |2023-01-29   |\n",
      "|2023-02-23  |304               |2023-03-25   |\n",
      "|2021-02-24  |1033              |2021-03-26   |\n",
      "|2023-05-25  |213               |2023-06-24   |\n",
      "|2022-11-04  |415               |2022-12-04   |\n",
      "|2023-01-01  |357               |2023-01-31   |\n",
      "|2022-12-02  |387               |2023-01-01   |\n",
      "|2023-05-12  |226               |2023-06-11   |\n",
      "|2023-01-24  |334               |2023-02-23   |\n",
      "|2023-01-14  |344               |2023-02-13   |\n",
      "|2023-03-24  |275               |2023-04-23   |\n",
      "|2023-04-06  |262               |2023-05-06   |\n",
      "|2023-04-20  |248               |2023-05-20   |\n",
      "|2023-03-10  |289               |2023-04-09   |\n",
      "+------------+------------------+-------------+\n",
      "only showing top 20 rows\n",
      "\n"
     ]
    }
   ],
   "source": [
    "from pyspark.sql.functions import to_date, datediff, current_date, date_add\n",
    "\n",
    "netflix_df = netflix_df.withColumn(\"Release Date\", to_date(netflix_df[\"Release Date\"], \"yyyy-MM-dd\"))\n",
    "netflix_df = netflix_df.withColumn(\"Days Since Release\", datediff(current_date(), netflix_df[\"Release Date\"]))\n",
    "netflix_df = netflix_df.withColumn(\"30 Days Later\", date_add(netflix_df[\"Release Date\"], 30))\n",
    "netflix_df.select(\"Release Date\", \"Days Since Release\", \"30 Days Later\").show(truncate=False)"
   ]
  },
  {
   "cell_type": "code",
   "execution_count": 79,
   "id": "2d09ed12-d6e0-40bb-af17-b39b551c89cd",
   "metadata": {
    "tags": []
   },
   "outputs": [
    {
     "name": "stdout",
     "output_type": "stream",
     "text": [
      "+-----------------------------------------------------------------------+------------+------+--------------------+\n",
      "|Title                                                                  |Hours Viewed|Rating|Viewership Score    |\n",
      "+-----------------------------------------------------------------------+------------+------+--------------------+\n",
      "|The Glory: Season 1 // 더 글로리: 시즌 1                               |622800000   |8.4   |5.23152E9           |\n",
      "|The Night Agent: Season 1                                              |812100000   |6.0   |4.8726E9            |\n",
      "|Ginny & Georgia: Season 2                                              |665100000   |5.7   |3.79107E9           |\n",
      "|Queen Charlotte: A Bridgerton Story                                    |503000000   |7.4   |3.7222E9            |\n",
      "|La Reina del Sur: Season 3                                             |429600000   |7.9   |3.39384E9           |\n",
      "|You: Season 4                                                          |440600000   |6.6   |2.90796E9           |\n",
      "|FUBAR: Season 1                                                        |266200000   |7.6   |2.02312E9           |\n",
      "|The Diplomat: Season 1                                                 |214100000   |8.9   |1.90549E9           |\n",
      "|Crash Course in Romance: Limited Series // 일타 스캔들: 리미티드 시리즈|234800000   |7.8   |1.83144E9           |\n",
      "|Vikings: Valhalla: Season 2                                            |205500000   |8.6   |1.7673E9            |\n",
      "|Ginny & Georgia: Season 1                                              |302100000   |5.7   |1.72197E9           |\n",
      "|Sweet Tooth: Season 2                                                  |182300000   |8.8   |1.6042400000000002E9|\n",
      "|The Surrogacy: Season 1 // Madre de alquiler: Temporada 1              |172400000   |8.9   |1.53436E9           |\n",
      "|The Marked Heart: Season 2 // Pálpito: Temporada 2                     |174300000   |8.7   |1.5164099999999998E9|\n",
      "|Shadow and Bone: Season 2                                              |192900000   |7.6   |1.46604E9           |\n",
      "|Extraction 2                                                           |201800000   |7.0   |1.4126E9            |\n",
      "|The Mother                                                             |249900000   |5.6   |1.39944E9           |\n",
      "|Luther: The Fallen Sun                                                 |209700000   |6.4   |1.34208E9           |\n",
      "|Outer Banks: Season 1                                                  |184000000   |7.1   |1.3064E9            |\n",
      "|Perfect Match: Season 1                                                |176800000   |7.3   |1.29064E9           |\n",
      "+-----------------------------------------------------------------------+------------+------+--------------------+\n",
      "only showing top 20 rows\n",
      "\n"
     ]
    }
   ],
   "source": [
    "from pyspark.sql import SparkSession\n",
    "from pyspark.sql.functions import col\n",
    "\n",
    "# Criando a SparkSession\n",
    "spark = SparkSession.builder.appName(\"Netflix Analysis\").getOrCreate()\n",
    "\n",
    "# Carregando os dados\n",
    "netflix_df = spark.read.csv(\"arquivos/netflix/Netflix Engagement.csv\", header=True, inferSchema=True)\n",
    "\n",
    "# Adicionando a coluna \"Viewership Score\" e ordenando os dados\n",
    "netflix_df = netflix_df.withColumn(\"Viewership Score\", col(\"Hours Viewed\") * col(\"Rating\"))\n",
    "ordered_df = netflix_df.orderBy(col(\"Viewership Score\").desc())\n",
    "\n",
    "# Selecionando as colunas relevantes\n",
    "ordered_df.select(\"Title\", \"Hours Viewed\", \"Rating\", \"Viewership Score\").show(truncate=False)"
   ]
  },
  {
   "cell_type": "code",
   "execution_count": 23,
   "id": "0002c96d-8a5a-4222-bdef-ab5859e7cbf5",
   "metadata": {
    "tags": []
   },
   "outputs": [
    {
     "name": "stdout",
     "output_type": "stream",
     "text": [
      "['Any', 'ArrayType', 'Callable', 'Column', 'DataFrame', 'DataType', 'Dict', 'Iterable', 'List', 'Optional', 'PandasUDFType', 'PythonEvalType', 'SparkContext', 'StringType', 'StructType', 'Tuple', 'Union', 'UserDefinedFunction', 'ValuesView', '_create_column_from_literal', '_create_lambda', '_create_udf', '_get_jvm_function', '_get_lambda_parameters', '_invoke_binary_math_function', '_invoke_function', '_invoke_function_over_columns', '_invoke_function_over_seq_of_columns', '_invoke_higher_order_function', '_options_to_str', '_test', '_to_java_column', '_to_seq', '_unresolved_named_lambda_variable', 'abs', 'acos', 'acosh', 'add_months', 'aggregate', 'approxCountDistinct', 'approx_count_distinct', 'array', 'array_contains', 'array_distinct', 'array_except', 'array_intersect', 'array_join', 'array_max', 'array_min', 'array_position', 'array_remove', 'array_repeat', 'array_sort', 'array_union', 'arrays_overlap', 'arrays_zip', 'asc', 'asc_nulls_first', 'asc_nulls_last', 'ascii', 'asin', 'asinh', 'assert_true', 'atan', 'atan2', 'atanh', 'avg', 'base64', 'bin', 'bit_length', 'bitwiseNOT', 'bitwise_not', 'broadcast', 'bround', 'bucket', 'cast', 'cbrt', 'ceil', 'coalesce', 'col', 'collect_list', 'collect_set', 'column', 'concat', 'concat_ws', 'conv', 'corr', 'cos', 'cosh', 'cot', 'count', 'countDistinct', 'count_distinct', 'covar_pop', 'covar_samp', 'crc32', 'create_map', 'csc', 'cume_dist', 'current_date', 'current_timestamp', 'date_add', 'date_format', 'date_sub', 'date_trunc', 'datediff', 'dayofmonth', 'dayofweek', 'dayofyear', 'days', 'decode', 'degrees', 'dense_rank', 'desc', 'desc_nulls_first', 'desc_nulls_last', 'element_at', 'encode', 'exists', 'exp', 'explode', 'explode_outer', 'expm1', 'expr', 'factorial', 'filter', 'first', 'flatten', 'floor', 'forall', 'format_number', 'format_string', 'from_csv', 'from_json', 'from_unixtime', 'from_utc_timestamp', 'get_json_object', 'greatest', 'grouping', 'grouping_id', 'hash', 'hex', 'hour', 'hours', 'hypot', 'initcap', 'input_file_name', 'instr', 'isnan', 'isnull', 'json_tuple', 'kurtosis', 'lag', 'last', 'last_day', 'lead', 'least', 'length', 'levenshtein', 'lit', 'locate', 'log', 'log10', 'log1p', 'log2', 'lower', 'lpad', 'ltrim', 'make_date', 'map_concat', 'map_entries', 'map_filter', 'map_from_arrays', 'map_from_entries', 'map_keys', 'map_values', 'map_zip_with', 'max', 'max_by', 'md5', 'mean', 'min', 'min_by', 'minute', 'monotonically_increasing_id', 'month', 'months', 'months_between', 'nanvl', 'next_day', 'nth_value', 'ntile', 'octet_length', 'overlay', 'overload', 'pandas_udf', 'percent_rank', 'percentile_approx', 'posexplode', 'posexplode_outer', 'pow', 'product', 'quarter', 'radians', 'raise_error', 'rand', 'randn', 'rank', 'regexp_extract', 'regexp_replace', 'repeat', 'reverse', 'rint', 'round', 'row_number', 'rpad', 'rtrim', 'schema_of_csv', 'schema_of_json', 'sec', 'second', 'sentences', 'sequence', 'session_window', 'sha1', 'sha2', 'shiftLeft', 'shiftRight', 'shiftRightUnsigned', 'shiftleft', 'shiftright', 'shiftrightunsigned', 'shuffle', 'signum', 'sin', 'since', 'sinh', 'size', 'skewness', 'slice', 'sort_array', 'soundex', 'spark_partition_id', 'split', 'sqrt', 'stddev', 'stddev_pop', 'stddev_samp', 'struct', 'substring', 'substring_index', 'sum', 'sumDistinct', 'sum_distinct', 'tan', 'tanh', 'timestamp_seconds', 'toDegrees', 'toRadians', 'to_csv', 'to_date', 'to_json', 'to_str', 'to_timestamp', 'to_utc_timestamp', 'transform', 'transform_keys', 'transform_values', 'translate', 'trim', 'trunc', 'udf', 'unbase64', 'unhex', 'unix_timestamp', 'upper', 'var_pop', 'var_samp', 'variance', 'weekofyear', 'when', 'window', 'xxhash64', 'year', 'years', 'zip_with']\n"
     ]
    }
   ],
   "source": [
    "from pyspark.sql import functions as F\n",
    "\n",
    "# Lista todas as funções chamáveis no módulo 'pyspark.sql.functions'\n",
    "function_list = [f for f in dir(F) if callable(getattr(F, f))]\n",
    "\n",
    "print(function_list)"
   ]
  },
  {
   "cell_type": "code",
   "execution_count": 14,
   "id": "8683e779-7c1d-4d65-a376-310a2fbc2db9",
   "metadata": {
    "tags": []
   },
   "outputs": [
    {
     "name": "stdout",
     "output_type": "stream",
     "text": [
      "+-----------+-------------------+-----------+\n",
      "|       nome|    data_nascimento|maior_idade|\n",
      "+-----------+-------------------+-----------+\n",
      "|     Esther|2000-09-29 00:00:00|       true|\n",
      "|    Mariane|2005-01-01 00:00:00|       true|\n",
      "|Ana Vitória|1972-05-02 00:00:00|       true|\n",
      "|    Leandro|1957-10-05 00:00:00|       true|\n",
      "|     Pietro|1948-11-03 00:00:00|       true|\n",
      "|    Clarice|1991-11-08 00:00:00|       true|\n",
      "|Ana Vitória|1998-10-06 00:00:00|       true|\n",
      "| Ana Sophia|1965-12-18 00:00:00|       true|\n",
      "|   Leonardo|1983-10-21 00:00:00|       true|\n",
      "|    Anthony|1946-03-09 00:00:00|       true|\n",
      "|    Natália|1945-12-15 00:00:00|       true|\n",
      "|       Davi|1983-01-22 00:00:00|       true|\n",
      "|   Stephany|1958-10-02 00:00:00|       true|\n",
      "|      Laura|1957-07-26 00:00:00|       true|\n",
      "| Ana Sophia|1974-07-05 00:00:00|       true|\n",
      "|       Levi|1966-04-06 00:00:00|       true|\n",
      "|      Alice|1982-05-27 00:00:00|       true|\n",
      "|     Marina|1997-06-23 00:00:00|       true|\n",
      "|     Danilo|1987-04-02 00:00:00|       true|\n",
      "|     Marina|1950-05-10 00:00:00|       true|\n",
      "+-----------+-------------------+-----------+\n",
      "only showing top 20 rows\n",
      "\n"
     ]
    }
   ],
   "source": [
    "# Carregar os DataFrames\n",
    "clientes_df = spark.read.csv(\"arquivos/clientes.csv\", header=True, inferSchema=True)\n",
    "\n",
    "# Exemplo 2: Transformações de Colunas\n",
    "clientes_df = clientes_df.withColumn(\"maior_idade\", F.year(F.current_date()) - F.year(F.col(\"data_nascimento\")) >= 18)\n",
    "clientes_df.select(\"nome\", \"data_nascimento\", \"maior_idade\").show()"
   ]
  },
  {
   "cell_type": "code",
   "execution_count": 7,
   "id": "2118b240-9e42-43d7-85ba-0fb84c0b76bf",
   "metadata": {
    "tags": []
   },
   "outputs": [
    {
     "name": "stdout",
     "output_type": "stream",
     "text": [
      "root\n",
      " |-- carrier: string (nullable = true)\n",
      " |-- carrier_data: struct (nullable = true)\n",
      " |    |-- plp_master_id: string (nullable = true)\n",
      " |    |-- postcard: string (nullable = true)\n",
      " |    |-- tag_number: string (nullable = true)\n",
      " |-- content_declaration: array (nullable = true)\n",
      " |    |-- element: struct (containsNull = true)\n",
      " |    |    |-- description: string (nullable = true)\n",
      " |    |    |-- qty: string (nullable = true)\n",
      " |    |    |-- value: string (nullable = true)\n",
      " |-- created_at: string (nullable = true)\n",
      " |-- data: struct (nullable = true)\n",
      " |    |-- code: string (nullable = true)\n",
      " |    |-- discount_service_code: string (nullable = true)\n",
      " |    |-- order_id: string (nullable = true)\n",
      " |    |-- payment: struct (nullable = true)\n",
      " |    |    |-- credit_card: struct (nullable = true)\n",
      " |    |    |    |-- created_at: struct (nullable = true)\n",
      " |    |    |    |    |-- _nanoseconds: long (nullable = true)\n",
      " |    |    |    |    |-- _seconds: long (nullable = true)\n",
      " |    |    |    |-- details: struct (nullable = true)\n",
      " |    |    |    |    |-- expirationDate: string (nullable = true)\n",
      " |    |    |    |    |-- maskedCC: string (nullable = true)\n",
      " |    |    |    |    |-- type: string (nullable = true)\n",
      " |    |    |    |-- is_default: boolean (nullable = true)\n",
      " |    |    |    |-- lastUpdate: struct (nullable = true)\n",
      " |    |    |    |    |-- _nanoseconds: long (nullable = true)\n",
      " |    |    |    |    |-- _seconds: long (nullable = true)\n",
      " |    |    |    |-- public_hash: string (nullable = true)\n",
      " |    |    |    |-- public_hashes: struct (nullable = true)\n",
      " |    |    |    |    |-- iugu: struct (nullable = true)\n",
      " |    |    |    |    |    |-- payment_method_code: string (nullable = true)\n",
      " |    |    |    |    |    |-- public_hash: string (nullable = true)\n",
      " |    |    |    |-- uid: string (nullable = true)\n",
      " |    |    |    |-- updated_at: struct (nullable = true)\n",
      " |    |    |    |    |-- _nanoseconds: long (nullable = true)\n",
      " |    |    |    |    |-- _seconds: long (nullable = true)\n",
      " |    |    |    |-- used_at: struct (nullable = true)\n",
      " |    |    |    |    |-- _nanoseconds: long (nullable = true)\n",
      " |    |    |    |    |-- _seconds: long (nullable = true)\n",
      " |    |    |-- use_store_credit: boolean (nullable = true)\n",
      " |    |-- tag: struct (nullable = true)\n",
      " |    |    |-- content_declaration: array (nullable = true)\n",
      " |    |    |    |-- element: struct (containsNull = true)\n",
      " |    |    |    |    |-- description: string (nullable = true)\n",
      " |    |    |    |    |-- qty: string (nullable = true)\n",
      " |    |    |    |    |-- value: string (nullable = true)\n",
      " |    |    |-- destiny: struct (nullable = true)\n",
      " |    |    |    |-- askForRegionCity: boolean (nullable = true)\n",
      " |    |    |    |-- city: string (nullable = true)\n",
      " |    |    |    |-- complement: string (nullable = true)\n",
      " |    |    |    |-- cpf_cnpj: string (nullable = true)\n",
      " |    |    |    |-- district: string (nullable = true)\n",
      " |    |    |    |-- email: string (nullable = true)\n",
      " |    |    |    |-- name: string (nullable = true)\n",
      " |    |    |    |-- number: string (nullable = true)\n",
      " |    |    |    |-- order_number: string (nullable = true)\n",
      " |    |    |    |-- postcode: string (nullable = true)\n",
      " |    |    |    |-- region: string (nullable = true)\n",
      " |    |    |    |-- selected_city: string (nullable = true)\n",
      " |    |    |    |-- selected_region: string (nullable = true)\n",
      " |    |    |    |-- street: string (nullable = true)\n",
      " |    |    |-- origin: struct (nullable = true)\n",
      " |    |    |    |-- askForRegionCity: boolean (nullable = true)\n",
      " |    |    |    |-- city: string (nullable = true)\n",
      " |    |    |    |-- complement: string (nullable = true)\n",
      " |    |    |    |-- cpf_cnpj: string (nullable = true)\n",
      " |    |    |    |-- district: string (nullable = true)\n",
      " |    |    |    |-- email: string (nullable = true)\n",
      " |    |    |    |-- firstname: string (nullable = true)\n",
      " |    |    |    |-- lastname: string (nullable = true)\n",
      " |    |    |    |-- name: string (nullable = true)\n",
      " |    |    |    |-- number: string (nullable = true)\n",
      " |    |    |    |-- phone: string (nullable = true)\n",
      " |    |    |    |-- phone_number: string (nullable = true)\n",
      " |    |    |    |-- postcode: string (nullable = true)\n",
      " |    |    |    |-- region: string (nullable = true)\n",
      " |    |    |    |-- selected_city: string (nullable = true)\n",
      " |    |    |    |-- selected_region: string (nullable = true)\n",
      " |    |    |    |-- street: string (nullable = true)\n",
      " |-- history: array (nullable = true)\n",
      " |    |-- element: struct (containsNull = true)\n",
      " |    |    |-- date: struct (nullable = true)\n",
      " |    |    |    |-- _nanoseconds: long (nullable = true)\n",
      " |    |    |    |-- _seconds: long (nullable = true)\n",
      " |    |    |-- name: string (nullable = true)\n",
      " |    |    |-- status: string (nullable = true)\n",
      " |    |    |-- user_notify: boolean (nullable = true)\n",
      " |-- ip: string (nullable = true)\n",
      " |-- magento_data: struct (nullable = true)\n",
      " |    |-- cart: string (nullable = true)\n",
      " |    |-- order_number: string (nullable = true)\n",
      " |-- order_id: string (nullable = true)\n",
      " |-- payment: struct (nullable = true)\n",
      " |    |-- amount_charged_to_credit_card: long (nullable = true)\n",
      " |    |-- applied_credit_amount: double (nullable = true)\n",
      " |    |-- credit_to_be_used: double (nullable = true)\n",
      " |    |-- use_credit_card: boolean (nullable = true)\n",
      " |    |-- use_free_shipping: boolean (nullable = true)\n",
      " |    |-- use_store_credit: boolean (nullable = true)\n",
      " |-- service_calculated: struct (nullable = true)\n",
      " |    |-- bonus: long (nullable = true)\n",
      " |    |-- code: string (nullable = true)\n",
      " |    |-- data: struct (nullable = true)\n",
      " |    |    |-- acknowledgment_of_receipt: string (nullable = true)\n",
      " |    |    |-- declared_value: string (nullable = true)\n",
      " |    |    |-- declared_value_option: string (nullable = true)\n",
      " |    |    |-- depth: long (nullable = true)\n",
      " |    |    |-- destination_postcode: string (nullable = true)\n",
      " |    |    |-- device_os: string (nullable = true)\n",
      " |    |    |-- diameter: string (nullable = true)\n",
      " |    |    |-- format_code: long (nullable = true)\n",
      " |    |    |-- height: long (nullable = true)\n",
      " |    |    |-- is_seller: boolean (nullable = true)\n",
      " |    |    |-- origin_postcode: string (nullable = true)\n",
      " |    |    |-- promotion_rule: struct (nullable = true)\n",
      " |    |    |    |-- banner: string (nullable = true)\n",
      " |    |    |    |-- created_at: string (nullable = true)\n",
      " |    |    |    |-- discount_value: long (nullable = true)\n",
      " |    |    |    |-- due_date: string (nullable = true)\n",
      " |    |    |    |-- id: string (nullable = true)\n",
      " |    |    |    |-- level: long (nullable = true)\n",
      " |    |    |    |-- minimum_shipping_amount: double (nullable = true)\n",
      " |    |    |    |-- owner: string (nullable = true)\n",
      " |    |    |    |-- start_date: string (nullable = true)\n",
      " |    |    |    |-- updated_at: string (nullable = true)\n",
      " |    |    |    |-- url: string (nullable = true)\n",
      " |    |    |-- self_hand: string (nullable = true)\n",
      " |    |    |-- update_count: boolean (nullable = true)\n",
      " |    |    |-- weight: long (nullable = true)\n",
      " |    |    |-- width: long (nullable = true)\n",
      " |    |-- declared_value_amount: long (nullable = true)\n",
      " |    |-- delivery_time: long (nullable = true)\n",
      " |    |-- discount_amount: double (nullable = true)\n",
      " |    |-- error: string (nullable = true)\n",
      " |    |-- has_error: boolean (nullable = true)\n",
      " |    |-- has_observation: boolean (nullable = true)\n",
      " |    |-- home_delivery: boolean (nullable = true)\n",
      " |    |-- is_contract: boolean (nullable = true)\n",
      " |    |-- level: long (nullable = true)\n",
      " |    |-- max_delivery_time: long (nullable = true)\n",
      " |    |-- min_delivery_time: long (nullable = true)\n",
      " |    |-- name: string (nullable = true)\n",
      " |    |-- observation: string (nullable = true)\n",
      " |    |-- order: long (nullable = true)\n",
      " |    |-- percent_of_total: long (nullable = true)\n",
      " |    |-- real_discount_amount: double (nullable = true)\n",
      " |    |-- receipt_notice_amount: long (nullable = true)\n",
      " |    |-- saturday_delivery: boolean (nullable = true)\n",
      " |    |-- self_hand_amount: long (nullable = true)\n",
      " |    |-- subtotal: double (nullable = true)\n",
      " |    |-- total: double (nullable = true)\n",
      " |    |-- total_with_discount: double (nullable = true)\n",
      " |    |-- total_without_discount: double (nullable = true)\n",
      " |-- status: string (nullable = true)\n",
      " |-- uid: string (nullable = true)\n",
      " |-- updated_at: string (nullable = true)\n",
      "\n"
     ]
    }
   ],
   "source": [
    "from pyspark.sql import SparkSession\n",
    "from pyspark.sql.functions import col, get_json_object, explode\n",
    "\n",
    "# Criando a SparkSession\n",
    "spark = SparkSession.builder.appName(\"NestedDataExample\").getOrCreate()\n",
    "\n",
    "# Carregando o arquivo JSON\n",
    "order_df = spark.read.option(\"multiline\", \"true\").json(\"arquivos/order.json\")\n",
    "\n",
    "# Imprimindo o esquema do DataFrame para verificar a estrutura\n",
    "order_df.printSchema()"
   ]
  },
  {
   "cell_type": "code",
   "execution_count": 5,
   "id": "043fc417-1d1a-4b1c-9550-e426c80beabf",
   "metadata": {
    "tags": []
   },
   "outputs": [
    {
     "name": "stdout",
     "output_type": "stream",
     "text": [
      "+-------------+\n",
      "|plp_master_id|\n",
      "+-------------+\n",
      "|876766465    |\n",
      "+-------------+\n",
      "\n"
     ]
    }
   ],
   "source": [
    "# Selecionando o campo 'plp_master_id' de 'carrier_data'\n",
    "master_id_df = order_df.select(col(\"carrier_data.plp_master_id\"))\n",
    "master_id_df.show(truncate=False)"
   ]
  },
  {
   "cell_type": "code",
   "execution_count": 16,
   "id": "520f9aca-5802-4a0a-b103-38789c376a35",
   "metadata": {
    "tags": []
   },
   "outputs": [
    {
     "name": "stdout",
     "output_type": "stream",
     "text": [
      "+----------------------------+\n",
      "|json_data                   |\n",
      "+----------------------------+\n",
      "|{'name': 'Alice', 'age': 25}|\n",
      "|{'name': 'Bob', 'age': 30}  |\n",
      "+----------------------------+\n",
      "\n",
      "+-----+\n",
      "|name |\n",
      "+-----+\n",
      "|Alice|\n",
      "|Bob  |\n",
      "+-----+\n",
      "\n"
     ]
    }
   ],
   "source": [
    "from pyspark.sql import SparkSession\n",
    "from pyspark.sql.functions import get_json_object, col\n",
    "\n",
    "# Criando a SparkSession\n",
    "spark = SparkSession.builder.appName(\"GetJSONObjectExample\").getOrCreate()\n",
    "\n",
    "# Dados de exemplo\n",
    "data = [(\"{'name': 'Alice', 'age': 25}\",), (\"{'name': 'Bob', 'age': 30}\",)]\n",
    "schema = [\"json_data\"]\n",
    "\n",
    "# Criando DataFrame\n",
    "df = spark.createDataFrame(data, schema)\n",
    "df.show(truncate=False)\n",
    "\n",
    "# Extraindo o nome do JSON\n",
    "df_with_name = df.select(get_json_object(col(\"json_data\"), \"$.name\").alias(\"name\"))\n",
    "df_with_name.show(truncate=False)"
   ]
  },
  {
   "cell_type": "code",
   "execution_count": 21,
   "id": "49a11f95-d052-4ee1-b10b-77b984adce5d",
   "metadata": {
    "tags": []
   },
   "outputs": [
    {
     "name": "stdout",
     "output_type": "stream",
     "text": [
      "Antes do explode(content_declaration)\n",
      "+-----------------------+\n",
      "|content_declaration    |\n",
      "+-----------------------+\n",
      "|[{Diversos, 1, 190.00}]|\n",
      "+-----------------------+\n",
      "\n",
      "Depois do explode(content_declaration)\n",
      "+-----------+---+------+\n",
      "|description|qty|value |\n",
      "+-----------+---+------+\n",
      "|Diversos   |1  |190.00|\n",
      "+-----------+---+------+\n",
      "\n"
     ]
    }
   ],
   "source": [
    "print(\"Antes do explode(content_declaration)\")\n",
    "order_df.select(\"content_declaration\").show(truncate=False)\n",
    "# Explodindo e selecionando elementos do array 'content_declaration'\n",
    "content_decl_df = order_df.selectExpr(\"explode(content_declaration) as content_item\")\n",
    "print(\"Depois do explode(content_declaration)\")\n",
    "# Selecionando detalhes específicos de cada item\n",
    "content_decl_df.select(\"content_item.description\", \"content_item.qty\", \"content_item.value\").show(truncate=False)"
   ]
  },
  {
   "cell_type": "markdown",
   "id": "ad44cfa9-195e-4532-ab98-69ede5295099",
   "metadata": {},
   "source": [
    "## Seção: Lidando com Dados Faltantes em PySpark"
   ]
  },
  {
   "cell_type": "code",
   "execution_count": 24,
   "id": "7f9151f9-66ec-404f-a835-b0a3de174ea2",
   "metadata": {
    "tags": []
   },
   "outputs": [
    {
     "name": "stdout",
     "output_type": "stream",
     "text": [
      "+--------------------+-------------------+-------------------+------------+-----------------+------+--------------------+--------------------+--------------------+\n",
      "|               Title|Available Globally?|       Release Date|Hours Viewed|Number of Ratings|Rating|               Genre|           Key Words|         Description|\n",
      "+--------------------+-------------------+-------------------+------------+-----------------+------+--------------------+--------------------+--------------------+\n",
      "|The Night Agent: ...|                Yes|2023-03-23 00:00:00|   812100000|           7696.0|   6.0|['Biography', 'Dr...|persian empire,em...|                null|\n",
      "|Ginny & Georgia: ...|                Yes|2023-01-05 00:00:00|   665100000|           5216.0|   5.7|['Comedy', 'Drama...|producer,three wo...|The film follows ...|\n",
      "|The Glory: Season...|                Yes|2022-12-30 00:00:00|   622800000|          11869.0|   8.4|           ['Short']|                null|                null|\n",
      "| Wednesday: Season 1|                Yes|2022-11-23 00:00:00|   507700000|             null|  null|       ['Talk-Show']|       youtube video|MsMojo counts dow...|\n",
      "|Queen Charlotte: ...|                Yes|2023-05-04 00:00:00|   503000000|          50077.0|   7.4|['Drama', 'Histor...|prequel,queen,his...|Betrothed against...|\n",
      "|       You: Season 4|                Yes|2023-02-09 00:00:00|   440600000|          45624.0|   6.6|['Comedy', 'Roman...|christmas,coming ...|A holiday romanti...|\n",
      "|La Reina del Sur:...|                 No|2022-12-30 00:00:00|   429600000|           3323.0|   7.9|['Action', 'Crime...|telenovela,drug t...|                null|\n",
      "|Outer Banks: Seas...|                Yes|2023-02-23 00:00:00|   402500000|             null|  null|                null|                null|                null|\n",
      "|Ginny & Georgia: ...|                Yes|2021-02-24 00:00:00|   302100000|           5216.0|   5.7|['Comedy', 'Drama...|producer,three wo...|The film follows ...|\n",
      "|     FUBAR: Season 1|                Yes|2023-05-25 00:00:00|   266200000|             35.0|   7.6| ['Short', 'Comedy']|                null|Uzo Aduba auditio...|\n",
      "|  Manifest: Season 4|                Yes|2022-11-04 00:00:00|   262600000|             null|  null|['Documentary', '...|                null|                null|\n",
      "|Kaleidoscope: Lim...|                Yes|2023-01-01 00:00:00|   252500000|             null|  null|                null|                null|                null|\n",
      "|Firefly Lane: Sea...|                Yes|2022-12-02 00:00:00|   251500000|             null|  null|                null|                null|                null|\n",
      "|          The Mother|                Yes|2023-05-12 00:00:00|   249900000|          44102.0|   5.6|['Action', 'Thril...|female protagonis...|While fleeing fro...|\n",
      "|Physical: 100: Se...|                Yes|2023-01-24 00:00:00|   235000000|             null|  null|                null|                null|                null|\n",
      "|Crash Course in R...|                Yes|2023-01-14 00:00:00|   234800000|           3963.0|   7.8|['Comedy', 'Drama...|teacher,tutor,mot...|Retired ex nation...|\n",
      "|Love Is Blind: Se...|                Yes|2023-03-24 00:00:00|   229700000|             null|  null|                null|                null|                null|\n",
      "|      BEEF: Season 1|                Yes|2023-04-06 00:00:00|   221100000|           7143.0|   5.5| ['Drama', 'Family']|close up of eye,c...|Wife and mother M...|\n",
      "|The Diplomat: Sea...|                Yes|2023-04-20 00:00:00|   214100000|             65.0|   8.9|           ['Short']|                null|Celebrate the end...|\n",
      "|Luther: The Falle...|                Yes|2023-03-10 00:00:00|   209700000|          60515.0|   6.4|['Crime', 'Drama'...|psychological thr...|Brilliant but dis...|\n",
      "+--------------------+-------------------+-------------------+------------+-----------------+------+--------------------+--------------------+--------------------+\n",
      "only showing top 20 rows\n",
      "\n"
     ]
    }
   ],
   "source": [
    "from pyspark.sql import SparkSession\n",
    "from pyspark.sql.functions import col, isnan, when, count\n",
    "\n",
    "# Criando a SparkSession\n",
    "spark = SparkSession.builder.appName(\"NetflixDataAnalysis\").getOrCreate()\n",
    "\n",
    "# Carregando os dados da Netflix\n",
    "netflix_df = spark.read.csv(\"arquivos/netflix/Netflix Engagement.csv\", header=True, inferSchema=True)\n",
    "netflix_df.show()"
   ]
  },
  {
   "cell_type": "code",
   "execution_count": 25,
   "id": "6ef5eca1-aef2-4625-85ee-163935950e75",
   "metadata": {
    "tags": []
   },
   "outputs": [
    {
     "name": "stdout",
     "output_type": "stream",
     "text": [
      "+-----+-------------------+------------+------------+-----------------+------+-----+---------+-----------+\n",
      "|Title|Available Globally?|Release Date|Hours Viewed|Number of Ratings|Rating|Genre|Key Words|Description|\n",
      "+-----+-------------------+------------+------------+-----------------+------+-----+---------+-----------+\n",
      "|    0|                  2|       13455|           2|             4112|  4112| 2573|     5533|       7715|\n",
      "+-----+-------------------+------------+------------+-----------------+------+-----+---------+-----------+\n",
      "\n"
     ]
    }
   ],
   "source": [
    "# Selecionar colunas numéricas para aplicar a função isnan\n",
    "numeric_cols = ['Hours Viewed', 'Number of Ratings', 'Rating']\n",
    "\n",
    "# Criar uma lista de verificações de nulidade para todas as colunas\n",
    "null_checks = [\n",
    "    count(when(isnan(c) | col(c).isNull(), c)).alias(c) \n",
    "    if c in numeric_cols else \n",
    "    count(when(col(c).isNull(), c)).alias(c) \n",
    "    for c in netflix_df.columns\n",
    "]\n",
    "\n",
    "# Aplicar as verificações de nulidade\n",
    "netflix_df.select(null_checks).show()"
   ]
  },
  {
   "cell_type": "code",
   "execution_count": 26,
   "id": "afc41d1e-eed4-4111-8e74-e0c91df9af50",
   "metadata": {
    "tags": []
   },
   "outputs": [],
   "source": [
    "netflix_df_filled = netflix_df.fillna({'Hours Viewed': 0, 'Rating': 5.0})"
   ]
  },
  {
   "cell_type": "code",
   "execution_count": 27,
   "id": "2e19f7c5-4379-462d-b2cc-14a02ca931b8",
   "metadata": {
    "tags": []
   },
   "outputs": [],
   "source": [
    "from pyspark.sql.functions import mean\n",
    "mean_val = netflix_df.select(mean(netflix_df['Rating'])).collect()[0][0]\n",
    "netflix_df_filled = netflix_df.fillna({'Rating': mean_val})"
   ]
  },
  {
   "cell_type": "code",
   "execution_count": 29,
   "id": "a5a48803-2431-41bc-ae01-4ecb25ca1165",
   "metadata": {
    "tags": []
   },
   "outputs": [],
   "source": [
    "# Excluir qualquer linha que contenha pelo menos um valor nulo\n",
    "netflix_df_dropped = netflix_df.dropna()\n",
    "\n",
    "# Remover linhas onde todos os campos estão nulos\n",
    "netflix_df_dropped = netflix_df.dropna(how='all')\n",
    "\n",
    "# Onde qualquer campo está nulo, faz o mesmo que .dropna()\n",
    "netflix_df_dropped = netflix_df.dropna(how='any')"
   ]
  },
  {
   "cell_type": "code",
   "execution_count": 30,
   "id": "42d2eeed-5250-4365-9ba9-8c918bc4902e",
   "metadata": {
    "tags": []
   },
   "outputs": [
    {
     "name": "stdout",
     "output_type": "stream",
     "text": [
      "+-----+-------------------+------------+------------+-----------------+------+-----+---------+-----------+\n",
      "|Title|Available Globally?|Release Date|Hours Viewed|Number of Ratings|Rating|Genre|Key Words|Description|\n",
      "+-----+-------------------+------------+------------+-----------------+------+-----+---------+-----------+\n",
      "|    0|                  2|       13455|           2|             4112|  4112| 2573|     5533|       7715|\n",
      "+-----+-------------------+------------+------------+-----------------+------+-----+---------+-----------+\n",
      "\n"
     ]
    }
   ],
   "source": [
    "netflix_df.select([count(when(col(c).isNull(), c)).alias(c) for c in netflix_df.columns]).show()"
   ]
  },
  {
   "cell_type": "code",
   "execution_count": 31,
   "id": "b95eafb8-2bb6-4bfb-8df3-7c9a3f983b1c",
   "metadata": {
    "tags": []
   },
   "outputs": [
    {
     "name": "stdout",
     "output_type": "stream",
     "text": [
      "+-----+-------------------+------------+------------+-----------------+------+-----+---------+-----------+\n",
      "|Title|Available Globally?|Release Date|Hours Viewed|Number of Ratings|Rating|Genre|Key Words|Description|\n",
      "+-----+-------------------+------------+------------+-----------------+------+-----+---------+-----------+\n",
      "|    0|                  0|           0|           0|                0|     0|    0|        0|          0|\n",
      "+-----+-------------------+------------+------------+-----------------+------+-----+---------+-----------+\n",
      "\n"
     ]
    }
   ],
   "source": [
    "netflix_df_dropped.select([count(when(col(c).isNull(), c)).alias(c) for c in netflix_df_dropped.columns]).show()"
   ]
  },
  {
   "cell_type": "code",
   "execution_count": 32,
   "id": "79e3f341-f0fc-4a14-9752-703d871bb126",
   "metadata": {
    "tags": []
   },
   "outputs": [
    {
     "name": "stdout",
     "output_type": "stream",
     "text": [
      "+-----------------+-------------------------+\n",
      "|   Average Rating|Rating Standard Deviation|\n",
      "+-----------------+-------------------------+\n",
      "|6.509056391505675|       1.0814082573969044|\n",
      "+-----------------+-------------------------+\n",
      "\n"
     ]
    }
   ],
   "source": [
    "from pyspark.sql.functions import avg, stddev\n",
    "\n",
    "netflix_df_filled.select(\n",
    "    avg('Rating').alias('Average Rating'),\n",
    "    stddev('Rating').alias('Rating Standard Deviation')\n",
    ").show()"
   ]
  },
  {
   "cell_type": "code",
   "execution_count": 34,
   "id": "1656416c-b478-4934-9102-196de2a277e6",
   "metadata": {
    "tags": []
   },
   "outputs": [
    {
     "name": "stdout",
     "output_type": "stream",
     "text": [
      "+----+-----+---------+\n",
      "|Year|Month|NumTitles|\n",
      "+----+-----+---------+\n",
      "|null| null|    13455|\n",
      "|2010|    4|        3|\n",
      "|2010|    9|        5|\n",
      "|2011|    3|        2|\n",
      "|2011|    9|        1|\n",
      "|2012|    2|        1|\n",
      "|2013|    2|        2|\n",
      "|2013|    5|        2|\n",
      "|2013|    7|        2|\n",
      "|2013|    8|        1|\n",
      "|2013|    9|        1|\n",
      "|2013|   11|        1|\n",
      "|2013|   12|        3|\n",
      "|2014|    1|        3|\n",
      "|2014|    2|        1|\n",
      "|2014|    5|        2|\n",
      "|2014|    6|        2|\n",
      "|2014|    7|        1|\n",
      "|2014|    8|        3|\n",
      "|2014|    9|        6|\n",
      "+----+-----+---------+\n",
      "only showing top 20 rows\n",
      "\n"
     ]
    }
   ],
   "source": [
    "from pyspark.sql import SparkSession\n",
    "from pyspark.sql.functions import year, month, count\n",
    "\n",
    "# Criando a SparkSession\n",
    "spark = SparkSession.builder.appName(\"NetflixTitlesByYearMonth\").getOrCreate()\n",
    "\n",
    "# Carregando os dados da Netflix\n",
    "netflix_df = spark.read.csv(\"arquivos/netflix/Netflix Engagement.csv\", header=True, inferSchema=True)\n",
    "\n",
    "# Extraindo o ano e o mês da coluna \"Release Date\"\n",
    "netflix_df = netflix_df.withColumn(\"Year\", year(\"Release Date\"))\n",
    "netflix_df = netflix_df.withColumn(\"Month\", month(\"Release Date\"))\n",
    "\n",
    "# Agrupando por ano e mês, e contando os títulos\n",
    "titles_by_year_month = netflix_df.groupBy(\"Year\", \"Month\").agg(count(\"Title\").alias(\"NumTitles\"))\n",
    "\n",
    "# Ordenando os resultados por ano e mês de forma crescente\n",
    "titles_by_year_month_ordered = titles_by_year_month.orderBy(\"Year\", \"Month\")\n",
    "\n",
    "# Exibindo o resultado\n",
    "titles_by_year_month_ordered.show()"
   ]
  },
  {
   "cell_type": "code",
   "execution_count": 37,
   "id": "97b074be-fdba-4a0f-90f8-d4c603a99aba",
   "metadata": {
    "tags": []
   },
   "outputs": [
    {
     "name": "stdout",
     "output_type": "stream",
     "text": [
      "+----+-----+---------+\n",
      "|Year|Month|NumTitles|\n",
      "+----+-----+---------+\n",
      "|2010|    1|        0|\n",
      "|2010|    2|        0|\n",
      "|2010|    3|        0|\n",
      "|2010|    4|        3|\n",
      "|2010|    5|        0|\n",
      "|2010|    6|        0|\n",
      "|2010|    7|        0|\n",
      "|2010|    8|        0|\n",
      "|2010|    9|        5|\n",
      "|2010|   10|        0|\n",
      "|2010|   11|        0|\n",
      "|2010|   12|        0|\n",
      "|2011|    1|        0|\n",
      "|2011|    2|        0|\n",
      "|2011|    3|        2|\n",
      "|2011|    4|        0|\n",
      "|2011|    5|        0|\n",
      "|2011|    6|        0|\n",
      "|2011|    7|        0|\n",
      "|2011|    8|        0|\n",
      "+----+-----+---------+\n",
      "only showing top 20 rows\n",
      "\n"
     ]
    }
   ],
   "source": [
    "from pyspark.sql import SparkSession\n",
    "from pyspark.sql.functions import lit\n",
    "from itertools import product\n",
    "from datetime import datetime\n",
    "\n",
    "# Criando a SparkSession\n",
    "spark = SparkSession.builder.appName(\"CompleteMonthsNetflixData\").getOrCreate()\n",
    "\n",
    "# Carregando os dados da Netflix\n",
    "netflix_df = spark.read.csv(\"arquivos/netflix/Netflix Engagement.csv\", header=True, inferSchema=True)\n",
    "\n",
    "# Extraindo o ano e o mês da coluna \"Release Date\"\n",
    "netflix_df = netflix_df.withColumn(\"Year\", year(\"Release Date\"))\n",
    "netflix_df = netflix_df.withColumn(\"Month\", month(\"Release Date\"))\n",
    "\n",
    "# Criando um DataFrame com todos os meses de um período específico\n",
    "years = range(2010, 2024)  # Por exemplo, de 2018 a 2023\n",
    "months = range(1, 13)  # Todos os meses\n",
    "\n",
    "# Produto cartesiano de anos e meses\n",
    "year_month_list = list(product(years, months))\n",
    "year_month_df = spark.createDataFrame(year_month_list, [\"Year\", \"Month\"])\n",
    "\n",
    "# Agrupando os dados da Netflix por ano e mês, e contando os títulos\n",
    "titles_by_year_month = netflix_df.groupBy(\"Year\", \"Month\").agg(count(\"Title\").alias(\"NumTitles\"))\n",
    "\n",
    "# Realizando a junção para incluir meses sem títulos\n",
    "complete_titles_by_year_month = year_month_df.join(titles_by_year_month, [\"Year\", \"Month\"], \"left_outer\")\n",
    "\n",
    "# Preenchendo os valores nulos com zero\n",
    "complete_titles_by_year_month = complete_titles_by_year_month.fillna({'NumTitles': 0})\n",
    "\n",
    "# Ordenando os resultados por ano e mês de forma crescente\n",
    "complete_titles_by_year_month_ordered = complete_titles_by_year_month.orderBy(\"Year\", \"Month\")\n",
    "\n",
    "# Exibindo o resultado\n",
    "complete_titles_by_year_month_ordered.show()"
   ]
  },
  {
   "cell_type": "code",
   "execution_count": null,
   "id": "7060bf16-3053-44b3-900d-f1dcb58bcb77",
   "metadata": {},
   "outputs": [],
   "source": []
  }
 ],
 "metadata": {
  "kernelspec": {
   "display_name": "Python 3 (ipykernel)",
   "language": "python",
   "name": "python3"
  },
  "language_info": {
   "codemirror_mode": {
    "name": "ipython",
    "version": 3
   },
   "file_extension": ".py",
   "mimetype": "text/x-python",
   "name": "python",
   "nbconvert_exporter": "python",
   "pygments_lexer": "ipython3",
   "version": "3.10.10"
  }
 },
 "nbformat": 4,
 "nbformat_minor": 5
}
