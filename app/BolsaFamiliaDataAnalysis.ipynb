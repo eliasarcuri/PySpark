{
 "cells": [
  {
   "cell_type": "code",
   "execution_count": 1,
   "id": "c146dc20-06a4-466a-88a2-b160afc17681",
   "metadata": {
    "tags": []
   },
   "outputs": [
    {
     "name": "stdout",
     "output_type": "stream",
     "text": [
      "+---------------+--------------+---+----------------------+--------------+--------------+--------------+-------------------------------+-------------+\n",
      "|MÊS COMPETÊNCIA|MÊS REFERÊNCIA|UF |CÓDIGO MUNICÍPIO SIAFI|NOME MUNICÍPIO|CPF FAVORECIDO|NIS FAVORECIDO|NOME FAVORECIDO                |VALOR PARCELA|\n",
      "+---------------+--------------+---+----------------------+--------------+--------------+--------------+-------------------------------+-------------+\n",
      "|202306         |202306        |AC |643                   |ACRELANDIA    |***.833.642-**|16167611395   |ABIGAIL DAGMAR MACHADO         |850,00       |\n",
      "|202306         |202306        |AC |643                   |ACRELANDIA    |null          |16122034321   |ABRAAO AMORA SALGUEIRO         |600,00       |\n",
      "|202306         |202306        |AC |643                   |ACRELANDIA    |***.355.042-**|16121660806   |ABRAAO DA PIEDADE DO NASCIMENTO|750,00       |\n",
      "|202306         |202306        |AC |643                   |ACRELANDIA    |***.050.782-**|16094443293   |ABRAO KEMPNER RUMANZKI         |600,00       |\n",
      "|202306         |202306        |AC |643                   |ACRELANDIA    |***.455.212-**|16110238660   |ACHILLA MARIA SOUZA ANDRADE    |700,00       |\n",
      "|202306         |202306        |AC |643                   |ACRELANDIA    |***.305.412-**|20796469754   |ADALCICLEIA BARROS DE ARAUJO   |650,00       |\n",
      "|202306         |202306        |AC |643                   |ACRELANDIA    |***.332.032-**|16120063855   |ADALGIZA NOGUEIRA DOS SANTOS   |600,00       |\n",
      "|202306         |202306        |AC |643                   |ACRELANDIA    |***.492.902-**|16120063561   |ADAO DE SOUZA PIEDADE          |600,00       |\n",
      "|202306         |202306        |AC |643                   |ACRELANDIA    |null          |20369134251   |ADAO INES DE MELO              |600,00       |\n",
      "|202306         |202306        |AC |643                   |ACRELANDIA    |***.402.382-**|12866781408   |ADECILDO DA SILVA CORREIA      |650,00       |\n",
      "|202306         |202306        |AC |643                   |ACRELANDIA    |***.089.602-**|21208225415   |ADEIDE RODRIGUES DAMASCENO     |700,00       |\n",
      "|202306         |202306        |AC |643                   |ACRELANDIA    |***.469.322-**|16036929952   |ADELINA XUITES JACOB           |650,00       |\n",
      "|202306         |202306        |AC |643                   |ACRELANDIA    |***.223.938-**|20060288897   |ADEMIR DANTAS DOS SANTOS JUNIOR|600,00       |\n",
      "|202306         |202306        |AC |643                   |ACRELANDIA    |***.217.922-**|20500011774   |ADENILDA TAVARES DA SILVA      |960,00       |\n",
      "|202306         |202306        |AC |643                   |ACRELANDIA    |***.092.642-**|12636981006   |ADENILSON MELO DA COSTA        |650,00       |\n",
      "|202306         |202306        |AC |643                   |ACRELANDIA    |***.593.192-**|20326549867   |ADENILZA MACHADO PINHEIRO      |800,00       |\n",
      "|202306         |202306        |AC |643                   |ACRELANDIA    |null          |12522975600   |ADENIR BOTELHO HERINGER        |600,00       |\n",
      "|202306         |202306        |AC |643                   |ACRELANDIA    |***.517.842-**|21205836847   |ADILIA TAMAIA DOS SANTOS       |650,00       |\n",
      "|202306         |202306        |AC |643                   |ACRELANDIA    |***.105.572-**|23677502671   |ADILINO DA SILVA BARROSO       |650,00       |\n",
      "|202306         |202306        |AC |643                   |ACRELANDIA    |***.387.772-**|23887628078   |ADILSON DIAS BARBOSA           |600,00       |\n",
      "+---------------+--------------+---+----------------------+--------------+--------------+--------------+-------------------------------+-------------+\n",
      "only showing top 20 rows\n",
      "\n"
     ]
    }
   ],
   "source": [
    "from pyspark.sql import SparkSession\n",
    "\n",
    "# Iniciar a sessão Spark\n",
    "# Definir um tamanho máximo de memória disponível para uso pelo driver\n",
    "spark = SparkSession.builder \\\n",
    "    .appName(\"Bolsa Familia Data Analysis\") \\\n",
    "    .config(\"spark.driver.memory\", \"4g\") \\\n",
    "    .getOrCreate()\n",
    "\n",
    "# Definir o caminho do arquivo CSV\n",
    "csv_file_path = 'BolsaFamilia/202306_NovoBolsaFamilia.csv'\n",
    "\n",
    "# Ler os dados do CSV para um DataFrame. Aqui, assumimos que o arquivo CSV possui um cabeçalho.\n",
    "# Também inferimos automaticamente o esquema dos dados. Adicionalmente, como o delimitador\n",
    "# padrão de um arquivo CSV é uma vírgula e o arquivo que estamos usando pode ter um delimitador diferente\n",
    "# (como ponto e vírgula), especificamos isso na opção 'sep'. Também indicamos o caractere de aspas\n",
    "# com a opção 'quote'. Para lidar com questões de codificação de caracteres que podem surgir ao trabalhar\n",
    "# com arquivos em formatos diferentes de UTF-8, usamos a opção 'encoding' para definir a codificação\n",
    "# correta, que neste caso é 'ISO-8859-1'.\n",
    "bolsa_familia_df = spark.read \\\n",
    "    .option(\"header\", \"true\") \\\n",
    "    .option(\"inferSchema\", \"true\") \\\n",
    "    .option(\"encoding\", \"ISO-8859-1\") \\\n",
    "    .option(\"sep\", \";\") \\\n",
    "    .option(\"quote\", \"\\\"\") \\\n",
    "    .csv(csv_file_path)\n",
    "\n",
    "# Mostrar as primeiras linhas do DataFrame para verificação. Aqui, usamos 'truncate=False' para garantir\n",
    "# que o Spark exiba o conteúdo completo das células do DataFrame, o que é útil para visualizar dados\n",
    "# com conteúdo mais extenso.\n",
    "bolsa_familia_df.show(truncate=False)"
   ]
  },
  {
   "cell_type": "code",
   "execution_count": 2,
   "id": "da813d90-b340-46e4-aac8-eda150665a50",
   "metadata": {
    "tags": []
   },
   "outputs": [
    {
     "name": "stdout",
     "output_type": "stream",
     "text": [
      "+---------------+--------------+---+----------------------+--------------+--------------+--------------+-------------------------------+-------------+\n",
      "|mes_competencia|mes_referencia|UF |codigo_municipio_siafi|nome_municipio|cpf_favorecido|nis_favorecido|nome_favorecido                |valor_parcela|\n",
      "+---------------+--------------+---+----------------------+--------------+--------------+--------------+-------------------------------+-------------+\n",
      "|202306         |202306        |AC |643                   |ACRELANDIA    |***.833.642-**|16167611395   |ABIGAIL DAGMAR MACHADO         |850.0        |\n",
      "|202306         |202306        |AC |643                   |ACRELANDIA    |Não informado |16122034321   |ABRAAO AMORA SALGUEIRO         |600.0        |\n",
      "|202306         |202306        |AC |643                   |ACRELANDIA    |***.355.042-**|16121660806   |ABRAAO DA PIEDADE DO NASCIMENTO|750.0        |\n",
      "|202306         |202306        |AC |643                   |ACRELANDIA    |***.050.782-**|16094443293   |ABRAO KEMPNER RUMANZKI         |600.0        |\n",
      "|202306         |202306        |AC |643                   |ACRELANDIA    |***.455.212-**|16110238660   |ACHILLA MARIA SOUZA ANDRADE    |700.0        |\n",
      "|202306         |202306        |AC |643                   |ACRELANDIA    |***.305.412-**|20796469754   |ADALCICLEIA BARROS DE ARAUJO   |650.0        |\n",
      "|202306         |202306        |AC |643                   |ACRELANDIA    |***.332.032-**|16120063855   |ADALGIZA NOGUEIRA DOS SANTOS   |600.0        |\n",
      "|202306         |202306        |AC |643                   |ACRELANDIA    |***.492.902-**|16120063561   |ADAO DE SOUZA PIEDADE          |600.0        |\n",
      "|202306         |202306        |AC |643                   |ACRELANDIA    |Não informado |20369134251   |ADAO INES DE MELO              |600.0        |\n",
      "|202306         |202306        |AC |643                   |ACRELANDIA    |***.402.382-**|12866781408   |ADECILDO DA SILVA CORREIA      |650.0        |\n",
      "|202306         |202306        |AC |643                   |ACRELANDIA    |***.089.602-**|21208225415   |ADEIDE RODRIGUES DAMASCENO     |700.0        |\n",
      "|202306         |202306        |AC |643                   |ACRELANDIA    |***.469.322-**|16036929952   |ADELINA XUITES JACOB           |650.0        |\n",
      "|202306         |202306        |AC |643                   |ACRELANDIA    |***.223.938-**|20060288897   |ADEMIR DANTAS DOS SANTOS JUNIOR|600.0        |\n",
      "|202306         |202306        |AC |643                   |ACRELANDIA    |***.217.922-**|20500011774   |ADENILDA TAVARES DA SILVA      |960.0        |\n",
      "|202306         |202306        |AC |643                   |ACRELANDIA    |***.092.642-**|12636981006   |ADENILSON MELO DA COSTA        |650.0        |\n",
      "|202306         |202306        |AC |643                   |ACRELANDIA    |***.593.192-**|20326549867   |ADENILZA MACHADO PINHEIRO      |800.0        |\n",
      "|202306         |202306        |AC |643                   |ACRELANDIA    |Não informado |12522975600   |ADENIR BOTELHO HERINGER        |600.0        |\n",
      "|202306         |202306        |AC |643                   |ACRELANDIA    |***.517.842-**|21205836847   |ADILIA TAMAIA DOS SANTOS       |650.0        |\n",
      "|202306         |202306        |AC |643                   |ACRELANDIA    |***.105.572-**|23677502671   |ADILINO DA SILVA BARROSO       |650.0        |\n",
      "|202306         |202306        |AC |643                   |ACRELANDIA    |***.387.772-**|23887628078   |ADILSON DIAS BARBOSA           |600.0        |\n",
      "+---------------+--------------+---+----------------------+--------------+--------------+--------------+-------------------------------+-------------+\n",
      "only showing top 20 rows\n",
      "\n"
     ]
    }
   ],
   "source": [
    "from pyspark.sql.functions import col, regexp_replace\n",
    "from pyspark.sql.types import FloatType\n",
    "\n",
    "# Renomear colunas para eliminar espaços e padronizar a nomenclatura\n",
    "renamed_df = bolsa_familia_df.select(\n",
    "    col(\"MÊS COMPETÊNCIA\").alias(\"mes_competencia\"),\n",
    "    col(\"MÊS REFERÊNCIA\").alias(\"mes_referencia\"),\n",
    "    col(\"UF\"),\n",
    "    col(\"CÓDIGO MUNICÍPIO SIAFI\").alias(\"codigo_municipio_siafi\"),\n",
    "    col(\"NOME MUNICÍPIO\").alias(\"nome_municipio\"),\n",
    "    col(\"CPF FAVORECIDO\").alias(\"cpf_favorecido\"),\n",
    "    col(\"NIS FAVORECIDO\").alias(\"nis_favorecido\"),\n",
    "    col(\"NOME FAVORECIDO\").alias(\"nome_favorecido\"),\n",
    "    regexp_replace(col(\"VALOR PARCELA\"), \",\", \".\").alias(\"valor_parcela\").cast(FloatType())\n",
    ")\n",
    "\n",
    "# Tratamento de valores nulos\n",
    "# Aqui optamos por manter as linhas com CPF nulo, mas você pode decidir remover ou tratar de forma diferente\n",
    "cleaned_df = renamed_df.fillna({'cpf_favorecido': 'Não informado'})\n",
    "\n",
    "# Ajustar tipo de dados para números onde aplicável\n",
    "# Neste caso, o NIS já está sendo tratado como string, o que é adequado dado que é um identificador\n",
    "\n",
    "# Mostrar as primeiras linhas do DataFrame limpo para verificação\n",
    "cleaned_df.show(truncate=False)\n"
   ]
  },
  {
   "cell_type": "code",
   "execution_count": 3,
   "id": "f2705ddc-2d7c-4b06-adb5-fced9abaa9bb",
   "metadata": {
    "tags": []
   },
   "outputs": [
    {
     "name": "stdout",
     "output_type": "stream",
     "text": [
      "Total de registros antes da filtragem: 20303520\n",
      "Total de registros após a filtragem: 20303520\n"
     ]
    }
   ],
   "source": [
    "# Contagem total de registros antes da filtragem\n",
    "total_before = cleaned_df.count()\n",
    "print(f\"Total de registros antes da filtragem: {total_before}\")\n",
    "\n",
    "# Filtrando registros com base em condições\n",
    "cleaned_df = cleaned_df.filter(cleaned_df[\"valor_parcela\"] > 0)\n",
    "\n",
    "# Contagem total de registros depois da filtragem\n",
    "total_after = cleaned_df.count()\n",
    "print(f\"Total de registros após a filtragem: {total_after}\")\n"
   ]
  },
  {
   "cell_type": "code",
   "execution_count": 4,
   "id": "15ec4136-1fb3-4ac8-9590-1aeb7ed74560",
   "metadata": {
    "tags": []
   },
   "outputs": [
    {
     "name": "stdout",
     "output_type": "stream",
     "text": [
      "Total de registros antes da remoção de duplicatas: 20303520\n",
      "Total de registros após a remoção de duplicatas: 20303490\n",
      "Número de registros duplicados removidos: 30\n"
     ]
    }
   ],
   "source": [
    "# Contagem total de registros antes da remoção de duplicatas\n",
    "total_before_dedup = cleaned_df.count()\n",
    "print(f\"Total de registros antes da remoção de duplicatas: {total_before_dedup}\")\n",
    "\n",
    "# Removendo duplicatas\n",
    "cleaned_df = cleaned_df.dropDuplicates()\n",
    "\n",
    "# Contagem total de registros depois da remoção de duplicatas\n",
    "total_after_dedup = cleaned_df.count()\n",
    "print(f\"Total de registros após a remoção de duplicatas: {total_after_dedup}\")\n",
    "\n",
    "# Calculando e exibindo o número de registros duplicados removidos\n",
    "duplicates_removed = total_before_dedup - total_after_dedup\n",
    "print(f\"Número de registros duplicados removidos: {duplicates_removed}\")\n"
   ]
  },
  {
   "cell_type": "code",
   "execution_count": 5,
   "id": "9b44baf4-0526-437e-84cb-96603643348c",
   "metadata": {
    "tags": []
   },
   "outputs": [],
   "source": [
    "from pyspark.sql import functions as F\n",
    "\n",
    "# Supondo que a coluna \"Ano/Mes Referencia\" está no formato 'yyyyMM'\n",
    "cleaned_df = cleaned_df.withColumn(\"Ano_Referencia\", F.year(F.to_date(cleaned_df[\"mes_referencia\"], \"yyyyMM\")))\n",
    "cleaned_df = cleaned_df.withColumn(\"Mes_Referencia\", F.month(F.to_date(cleaned_df[\"mes_referencia\"], \"yyyyMM\")))"
   ]
  },
  {
   "cell_type": "code",
   "execution_count": 6,
   "id": "9fce07da-f490-46bf-982a-b04e2743e3fe",
   "metadata": {},
   "outputs": [],
   "source": [
    "# Supondo que temos uma coluna \"Data\" no formato 'yyyy-MM-dd'\n",
    "# cleaned_df = cleaned_df.withColumn(\"Dia\", F.dayofmonth(F.to_date(cleaned_df[\"Data\"], \"yyyy-MM-dd\")))"
   ]
  },
  {
   "cell_type": "code",
   "execution_count": 7,
   "id": "7f094b60-71f1-4d83-a9eb-6c9d97081c60",
   "metadata": {
    "tags": []
   },
   "outputs": [
    {
     "name": "stdout",
     "output_type": "stream",
     "text": [
      "+---------------+--------------+---+----------------------+--------------------+--------------+--------------+--------------------+-------------+--------------+\n",
      "|mes_competencia|Mes_Referencia| UF|codigo_municipio_siafi|      nome_municipio|cpf_favorecido|nis_favorecido|     nome_favorecido|valor_parcela|Ano_Referencia|\n",
      "+---------------+--------------+---+----------------------+--------------------+--------------+--------------+--------------------+-------------+--------------+\n",
      "|         202306|             6| AM|                   255|              MANAUS|***.512.882-**|   23876614348|EDINELZA MARTINS ...|        180.0|          2023|\n",
      "|         202306|             6| AC|                   105|           BRASILEIA|***.734.862-**|   16036979380|ANA PAULA CAVALCA...|        205.0|          2023|\n",
      "|         202306|             6| AL|                  2731|              CANAPI|***.078.204-**|   16369583546|MARIA DE FATIMA L...|        205.0|          2023|\n",
      "|         202306|             6| AL|                  2785|              MACEIO|***.529.594-**|   20704205356|CASSIANA FRANCISC...|        205.0|          2023|\n",
      "|         202306|             6| AM|                   241|         ITACOATIARA|***.186.011-**|   12460202573|MARIA CELESTINA L...|        205.0|          2023|\n",
      "|         202306|             6| AM|                   255|              MANAUS|***.707.382-**|   12982787026|CLEIDIONEI PENHA ...|        205.0|          2023|\n",
      "|         202306|             6| AL|                  2747|     DELMIRO GOUVEIA|***.912.474-**|   23790204176|DAYANA LIMA SILVA...|        230.0|          2023|\n",
      "|         202306|             6| AL|                  2785|              MACEIO|***.043.894-**|   16558252555|POLLYANNA AMORIM ...|        230.0|          2023|\n",
      "|         202306|             6| AL|                  2785|              MACEIO|***.902.244-**|   20102867377|EDVANIA MARIA DO ...|        230.0|          2023|\n",
      "|         202306|             6| AM|                   255|              MANAUS|***.045.302-**|   16528142484|RAIMUNDA SUELY SA...|        230.0|          2023|\n",
      "|         202306|             6| AM|                   255|              MANAUS|***.955.392-**|   20187331078| ELIANE MARTINS LEAL|        230.0|          2023|\n",
      "|         202306|             6| AC|                   139|          RIO BRANCO|***.589.212-**|   20189412083|EUZIENE PINHEIRO ...|        255.0|          2023|\n",
      "|         202306|             6| AC|                   149|              XAPURI|***.231.962-**|   16439643380|MAIANE DA CUNHA D...|        255.0|          2023|\n",
      "|         202306|             6| AL|                  2785|              MACEIO|***.620.964-**|   16575007326| NAYARA ALVES CABRAL|        255.0|          2023|\n",
      "|         202306|             6| AM|                   261|               MAUES|***.993.732-**|   16309972597|GELCIMARA DA SILV...|        255.0|          2023|\n",
      "|         202306|             6| AM|                   273|SANTO ANTONIO DO ICA|***.821.852-**|   15017698012|KASSIA ARYELE CAC...|        255.0|          2023|\n",
      "|         202306|             6| AM|                   965|   CAREIRO DA VARZEA|***.666.032-**|   16542280201|WALQUIRIA MONTEIR...|        255.0|          2023|\n",
      "|         202306|             6| AM|                   255|              MANAUS|***.890.162-**|   20449386192|RAYANA CRISTINA F...|        280.0|          2023|\n",
      "|         202306|             6| AC|                   145|      SENA MADUREIRA|***.153.302-**|   16481403961|MARIA DA SILVA MI...|        300.0|          2023|\n",
      "|         202306|             6| AL|                  2785|              MACEIO|***.528.594-**|   12134256771|   ROSINEIDE FIRMINO|        300.0|          2023|\n",
      "+---------------+--------------+---+----------------------+--------------------+--------------+--------------+--------------------+-------------+--------------+\n",
      "only showing top 20 rows\n",
      "\n"
     ]
    }
   ],
   "source": [
    "cleaned_df.show()"
   ]
  },
  {
   "cell_type": "code",
   "execution_count": 8,
   "id": "abd3df2c-7350-43ac-8c27-6d6bffa46e14",
   "metadata": {
    "tags": []
   },
   "outputs": [
    {
     "name": "stdout",
     "output_type": "stream",
     "text": [
      "+--------------+--------------+-------------+\n",
      "|Ano_Referencia|Mes_Referencia|valor_parcela|\n",
      "+--------------+--------------+-------------+\n",
      "|2023          |6             |180.0        |\n",
      "|2023          |6             |205.0        |\n",
      "|2023          |6             |205.0        |\n",
      "|2023          |6             |205.0        |\n",
      "|2023          |6             |205.0        |\n",
      "|2023          |6             |205.0        |\n",
      "|2023          |6             |230.0        |\n",
      "|2023          |6             |230.0        |\n",
      "|2023          |6             |230.0        |\n",
      "|2023          |6             |230.0        |\n",
      "|2023          |6             |230.0        |\n",
      "|2023          |6             |255.0        |\n",
      "|2023          |6             |255.0        |\n",
      "|2023          |6             |255.0        |\n",
      "|2023          |6             |255.0        |\n",
      "|2023          |6             |255.0        |\n",
      "|2023          |6             |255.0        |\n",
      "|2023          |6             |280.0        |\n",
      "|2023          |6             |300.0        |\n",
      "|2023          |6             |300.0        |\n",
      "+--------------+--------------+-------------+\n",
      "only showing top 20 rows\n",
      "\n"
     ]
    }
   ],
   "source": [
    "# Suponha que você queira exibir apenas algumas colunas específicas, como \"Ano_Referencia\", \"Mes_Referencia\" e \"valor_parcela\"\n",
    "selected_columns_df = cleaned_df.select(\"Ano_Referencia\", \"Mes_Referencia\", \"valor_parcela\")\n",
    "\n",
    "# Agora, exiba as primeiras linhas do DataFrame com essas colunas selecionadas\n",
    "selected_columns_df.show(truncate=False)"
   ]
  },
  {
   "cell_type": "code",
   "execution_count": 9,
   "id": "097bf6e5-ef2b-43e4-a7e8-dd11f9056e5f",
   "metadata": {
    "tags": []
   },
   "outputs": [],
   "source": [
    "# Filtrando registros onde o CPF do beneficiário segue um padrão de 11 dígitos\n",
    "# cleaned_df = cleaned_df.filter(cleaned_df[\"CPF_Beneficiario\"].rlike(\"^\\d{11}$\"))\n",
    "\n",
    "# Filtrando registros que contêm um nome específico de favorecido\n",
    "# cleaned_df = cleaned_df.filter(cleaned_df[\"Nome_Favorecido\"].rlike(\"Nome Específico\"))\n",
    "\n",
    "# Filtrando registros que correspondem a um nome de município específico\n",
    "# cleaned_df = cleaned_df.filter(cleaned_df[\"Nome_Municipio\"].rlike(\"Nome do Município\"))\n"
   ]
  },
  {
   "cell_type": "code",
   "execution_count": 11,
   "id": "cb978fb5-9757-4bb5-bf0c-ba044f2ed87d",
   "metadata": {
    "tags": []
   },
   "outputs": [
    {
     "name": "stdout",
     "output_type": "stream",
     "text": [
      "+-------+-----------------+\n",
      "|summary|    valor_parcela|\n",
      "+-------+-----------------+\n",
      "|  count|         20303490|\n",
      "|   mean|683.0543957713674|\n",
      "| stddev|166.6037891561496|\n",
      "|    min|             25.0|\n",
      "|    max|           4514.0|\n",
      "+-------+-----------------+\n",
      "\n"
     ]
    }
   ],
   "source": [
    "# Calculando estatísticas descritivas para a coluna de valor das parcelas\n",
    "cleaned_df.describe(\"valor_parcela\").show()\n"
   ]
  },
  {
   "cell_type": "code",
   "execution_count": 12,
   "id": "2ee97e16-a1e6-4088-9514-284b2d8c32cc",
   "metadata": {
    "tags": []
   },
   "outputs": [
    {
     "name": "stdout",
     "output_type": "stream",
     "text": [
      "+---+------------------+\n",
      "| UF|sum(valor_parcela)|\n",
      "+---+------------------+\n",
      "| SC|      1.48329545E8|\n",
      "| RO|       8.4808353E7|\n",
      "| PI|      4.08516567E8|\n",
      "| AM|      4.49869692E8|\n",
      "| RR|       4.8763451E7|\n",
      "| GO|      3.29398276E8|\n",
      "| TO|       1.0723243E8|\n",
      "| MT|      1.72388722E8|\n",
      "| SP|     1.681907945E9|\n",
      "| ES|      1.99195634E8|\n",
      "| PB|      4.49283008E8|\n",
      "| RS|      3.90795806E8|\n",
      "| MS|      1.38073872E8|\n",
      "| AL|      3.61330074E8|\n",
      "| MG|     1.052019277E9|\n",
      "| PA|      9.13096805E8|\n",
      "| BA|     1.648606874E9|\n",
      "| SE|      2.56898968E8|\n",
      "| PE|     1.070949406E9|\n",
      "| CE|      9.67900457E8|\n",
      "+---+------------------+\n",
      "only showing top 20 rows\n",
      "\n"
     ]
    }
   ],
   "source": [
    "# Soma total de pagamentos por UF\n",
    "cleaned_df.groupBy(\"UF\").sum(\"valor_parcela\").show()"
   ]
  },
  {
   "cell_type": "code",
   "execution_count": 13,
   "id": "1fadf551-56f5-4d5b-a8aa-fc4b4f6d92f2",
   "metadata": {
    "tags": []
   },
   "outputs": [
    {
     "name": "stdout",
     "output_type": "stream",
     "text": [
      "+--------------------+------------------+\n",
      "|      Nome_Municipio|avg(valor_parcela)|\n",
      "+--------------------+------------------+\n",
      "|     CRUZEIRO DO SUL| 746.1043527178117|\n",
      "|  SAO JOAO DE MERITI| 668.0002600104004|\n",
      "|           ITAPARICA| 653.1520905255082|\n",
      "| TEIXEIRA DE FREITAS|  674.061882437793|\n",
      "|            LINHARES|  695.315540911587|\n",
      "|ALTO ALEGRE DO MA...| 701.7597803706245|\n",
      "|          ACAILANDIA|  706.977630957999|\n",
      "|             ARACUAI| 671.1283815851922|\n",
      "| CARMOPOLIS DE MINAS| 696.1376564277588|\n",
      "|       FOZ DO IGUACU| 694.2448439450686|\n",
      "|          BATAGUASSU| 692.6650746268657|\n",
      "|          GUZOLANDIA| 674.8106995884774|\n",
      "|      TOBIAS BARRETO| 651.0049138247158|\n",
      "|         PORTO FELIZ| 691.0682610861983|\n",
      "|  ESTRELA DE ALAGOAS| 690.1504651908887|\n",
      "|    CURRAL DE DENTRO|  681.507769145394|\n",
      "|            ALTEROSA| 696.5696682464455|\n",
      "|          SAO RAFAEL| 635.5149325626204|\n",
      "|               CANAS|            682.65|\n",
      "|           IBIRACATU| 704.6643286573146|\n",
      "+--------------------+------------------+\n",
      "only showing top 20 rows\n",
      "\n"
     ]
    }
   ],
   "source": [
    "# Média de valor de parcela por município\n",
    "cleaned_df.groupBy(\"Nome_Municipio\").avg(\"valor_parcela\").show()"
   ]
  },
  {
   "cell_type": "code",
   "execution_count": 14,
   "id": "ec8c41dd-d020-4452-82ea-34221e454c2a",
   "metadata": {
    "tags": []
   },
   "outputs": [
    {
     "name": "stdout",
     "output_type": "stream",
     "text": [
      "+----------------------+------------------+\n",
      "|Nome_Municipio        |avg(valor_parcela)|\n",
      "+----------------------+------------------+\n",
      "|ITAPARICA             |653.1520905255082 |\n",
      "|TEIXEIRA DE FREITAS   |674.061882437793  |\n",
      "|RIBEIRA DO POMBAL     |679.5988560059686 |\n",
      "|ITARANTIM             |662.2887573964497 |\n",
      "|RIACHAO DO JACUIPE    |647.2095209217707 |\n",
      "|ABARE                 |678.9279420403368 |\n",
      "|OLIVEIRA DOS BREJINHOS|681.2926157697121 |\n",
      "|RIO REAL              |676.053283925377  |\n",
      "|ANDORINHA             |649.9588647959183 |\n",
      "|CURACA                |671.726731937043  |\n",
      "|RETIROLANDIA          |662.9710601719198 |\n",
      "|WAGNER                |675.3935799023029 |\n",
      "|SANTO ESTEVAO         |677.5146153846154 |\n",
      "|CANUDOS               |676.2589013224822 |\n",
      "|CRAVOLANDIA           |677.0132211538462 |\n",
      "|CATURAMA              |690.3087301587302 |\n",
      "|CONCEICAO DA FEIRA    |639.9761348897536 |\n",
      "|CORIBE                |668.0590846047156 |\n",
      "|ITAJU DO COLONIA      |682.177151120752  |\n",
      "|LAFAIETE COUTINHO     |663.2139534883721 |\n",
      "+----------------------+------------------+\n",
      "only showing top 20 rows\n",
      "\n"
     ]
    }
   ],
   "source": [
    "# Filtrando os dados para a UF de Bahia (BA)\n",
    "df_ba = cleaned_df.filter(cleaned_df[\"UF\"] == \"BA\")\n",
    "\n",
    "# Agrupando por município e calculando a média do valor das parcelas\n",
    "media_por_municipio_ba = df_ba.groupBy(\"Nome_Municipio\").avg(\"valor_parcela\")\n",
    "\n",
    "# Exibindo os resultados\n",
    "media_por_municipio_ba.show(truncate=False)"
   ]
  },
  {
   "cell_type": "code",
   "execution_count": null,
   "id": "d7e0fc5d-a521-4aee-ada2-5fa6a2c7e5ad",
   "metadata": {},
   "outputs": [],
   "source": [
    "# Filtrando os dados para a UF da Bahia (BA) e agrupando por município para calcular a média do valor das parcelas\n",
    "media_por_municipio_ba = (cleaned_df\n",
    "                          .filter(cleaned_df[\"UF\"] == \"BA\")\n",
    "                          .groupBy(\"Nome_Municipio\")\n",
    "                          .avg(\"valor_parcela\"))\n",
    "\n",
    "# Exibindo os resultados com largura de coluna ajustada\n",
    "media_por_municipio_ba.show(truncate=False)"
   ]
  },
  {
   "cell_type": "code",
   "execution_count": 15,
   "id": "abaa5978-e127-4d0e-a9c9-f77d1e90d564",
   "metadata": {
    "tags": []
   },
   "outputs": [
    {
     "name": "stdout",
     "output_type": "stream",
     "text": [
      "+--------------------+-----+\n",
      "|      Nome_Municipio|count|\n",
      "+--------------------+-----+\n",
      "|  SAO JOAO DE MERITI|38460|\n",
      "|           ITAPARICA| 5214|\n",
      "| TEIXEIRA DE FREITAS|13865|\n",
      "|            LINHARES| 9105|\n",
      "|ALTO ALEGRE DO MA...| 4371|\n",
      "|          ACAILANDIA|10595|\n",
      "|             ARACUAI| 4214|\n",
      "| CARMOPOLIS DE MINAS|  879|\n",
      "|       FOZ DO IGUACU|20025|\n",
      "|          BATAGUASSU| 1675|\n",
      "|          GUZOLANDIA|  243|\n",
      "|      TOBIAS BARRETO|13635|\n",
      "|     CRUZEIRO DO SUL|14221|\n",
      "|  ESTRELA DE ALAGOAS| 3117|\n",
      "|         PORTO FELIZ| 2007|\n",
      "|    CURRAL DE DENTRO| 1802|\n",
      "|            ALTEROSA| 1055|\n",
      "|          SAO RAFAEL| 2076|\n",
      "|               CANAS|  580|\n",
      "|             BRUSQUE| 2825|\n",
      "+--------------------+-----+\n",
      "only showing top 20 rows\n",
      "\n"
     ]
    }
   ],
   "source": [
    "# Contagem de beneficiários por município\n",
    "cleaned_df.groupBy(\"Nome_Municipio\").count().show()"
   ]
  },
  {
   "cell_type": "code",
   "execution_count": 16,
   "id": "5c53a9e1-dc82-4dd0-b049-05d0c97cabfa",
   "metadata": {
    "tags": []
   },
   "outputs": [
    {
     "name": "stdout",
     "output_type": "stream",
     "text": [
      "+--------------+------------------+\n",
      "|Mes_Referencia|sum(valor_parcela)|\n",
      "+--------------+------------------+\n",
      "|             6|   1.3868388094E10|\n",
      "+--------------+------------------+\n",
      "\n"
     ]
    }
   ],
   "source": [
    "# Soma total de pagamentos por mês\n",
    "cleaned_df.groupBy(\"Mes_Referencia\").sum(\"valor_parcela\").orderBy(\"Mes_Referencia\").show()"
   ]
  },
  {
   "cell_type": "code",
   "execution_count": 26,
   "id": "89a76f86-a683-44a7-b86a-924d3b29be56",
   "metadata": {
    "tags": []
   },
   "outputs": [
    {
     "name": "stdout",
     "output_type": "stream",
     "text": [
      "+--------------+-----------------+\n",
      "|Mes_Referencia|Total_Pagamentos |\n",
      "+--------------+-----------------+\n",
      "|6             |13,868,388,094.00|\n",
      "+--------------+-----------------+\n",
      "\n"
     ]
    }
   ],
   "source": [
    "from pyspark.sql import functions as F\n",
    "\n",
    "# Calculando a soma total de pagamentos por mês\n",
    "soma_por_mes = cleaned_df.groupBy(\"Mes_Referencia\").sum(\"valor_parcela\").orderBy(\"Mes_Referencia\")\n",
    "\n",
    "# Formatando a coluna da soma e renomeando para \"Total_Pagamentos\"\n",
    "soma_por_mes = soma_por_mes.withColumn(\"Total_Pagamentos\", \n",
    "                                       F.format_number(F.col(\"sum(valor_parcela)\"), 2))\n",
    "\n",
    "# Exibindo os resultados com a coluna renomeada\n",
    "soma_por_mes.select(\"Mes_Referencia\", \"Total_Pagamentos\").show(truncate=False)\n"
   ]
  },
  {
   "cell_type": "code",
   "execution_count": 28,
   "id": "fb564273-0407-4195-a84b-18a32f1b803e",
   "metadata": {
    "tags": []
   },
   "outputs": [
    {
     "name": "stdout",
     "output_type": "stream",
     "text": [
      "root\n",
      " |-- Mes_Referencia: integer (nullable = true)\n",
      " |-- sum(valor_parcela): double (nullable = true)\n",
      " |-- Total_Pagamentos: string (nullable = true)\n",
      "\n"
     ]
    }
   ],
   "source": [
    "soma_por_mes.printSchema()"
   ]
  },
  {
   "cell_type": "code",
   "execution_count": 29,
   "id": "fe903713-446e-4ed3-bfee-4051bb93d037",
   "metadata": {
    "tags": []
   },
   "outputs": [],
   "source": [
    "# Histograma dos valores das parcelas (pode ser integrado com Matplotlib ou Seaborn)\n",
    "valores_parcelas = cleaned_df.select(\"valor_parcela\").rdd.flatMap(lambda x: x).collect()\n",
    "# Aqui, você pode usar Matplotlib ou Seaborn para plotar o histograma"
   ]
  },
  {
   "cell_type": "code",
   "execution_count": 30,
   "id": "d64720a0-2e93-4f44-997d-cbb46ef80e1e",
   "metadata": {
    "tags": []
   },
   "outputs": [
    {
     "data": {
      "image/png": "[encoded data removed]",
      "text/plain": [
       "<Figure size 1000x600 with 1 Axes>"
      ]
     },
     "metadata": {},
     "output_type": "display_data"
    }
   ],
   "source": [
    "import matplotlib.pyplot as plt\n",
    "import seaborn as sns\n",
    "\n",
    "# Exemplo: Histograma dos valores das parcelas\n",
    "plt.figure(figsize=(10, 6))\n",
    "sns.histplot(valores_parcelas, bins=30, kde=True)\n",
    "plt.title('Distribuição dos Valores das Parcelas do Bolsa Família Junho 2023')\n",
    "plt.xlabel('Valor da Parcela')\n",
    "plt.ylabel('Frequência')\n",
    "plt.show()"
   ]
  },
  {
   "cell_type": "markdown",
   "id": "a7075aa4-0bf3-489f-92dc-aaea5f8fd1cb",
   "metadata": {},
   "source": [
    "## Exercícios para Praticar"
   ]
  },
  {
   "cell_type": "markdown",
   "id": "19bf5f1c-d917-48e9-afee-35f618319086",
   "metadata": {},
   "source": [
    "### Vou recriar o dataframe para utilizar nos exercícios"
   ]
  },
  {
   "cell_type": "code",
   "execution_count": 1,
   "id": "4dff5ecb-5bb0-4b86-8495-b82c5d4125d6",
   "metadata": {
    "tags": []
   },
   "outputs": [
    {
     "name": "stdout",
     "output_type": "stream",
     "text": [
      "+---------------+--------------+---+----------------------+--------------+--------------+--------------+-------------------------------+-------------+\n",
      "|MÊS COMPETÊNCIA|MÊS REFERÊNCIA|UF |CÓDIGO MUNICÍPIO SIAFI|NOME MUNICÍPIO|CPF FAVORECIDO|NIS FAVORECIDO|NOME FAVORECIDO                |VALOR PARCELA|\n",
      "+---------------+--------------+---+----------------------+--------------+--------------+--------------+-------------------------------+-------------+\n",
      "|202306         |202306        |AC |643                   |ACRELANDIA    |***.833.642-**|16167611395   |ABIGAIL DAGMAR MACHADO         |850,00       |\n",
      "|202306         |202306        |AC |643                   |ACRELANDIA    |null          |16122034321   |ABRAAO AMORA SALGUEIRO         |600,00       |\n",
      "|202306         |202306        |AC |643                   |ACRELANDIA    |***.355.042-**|16121660806   |ABRAAO DA PIEDADE DO NASCIMENTO|750,00       |\n",
      "|202306         |202306        |AC |643                   |ACRELANDIA    |***.050.782-**|16094443293   |ABRAO KEMPNER RUMANZKI         |600,00       |\n",
      "|202306         |202306        |AC |643                   |ACRELANDIA    |***.455.212-**|16110238660   |ACHILLA MARIA SOUZA ANDRADE    |700,00       |\n",
      "|202306         |202306        |AC |643                   |ACRELANDIA    |***.305.412-**|20796469754   |ADALCICLEIA BARROS DE ARAUJO   |650,00       |\n",
      "|202306         |202306        |AC |643                   |ACRELANDIA    |***.332.032-**|16120063855   |ADALGIZA NOGUEIRA DOS SANTOS   |600,00       |\n",
      "|202306         |202306        |AC |643                   |ACRELANDIA    |***.492.902-**|16120063561   |ADAO DE SOUZA PIEDADE          |600,00       |\n",
      "|202306         |202306        |AC |643                   |ACRELANDIA    |null          |20369134251   |ADAO INES DE MELO              |600,00       |\n",
      "|202306         |202306        |AC |643                   |ACRELANDIA    |***.402.382-**|12866781408   |ADECILDO DA SILVA CORREIA      |650,00       |\n",
      "|202306         |202306        |AC |643                   |ACRELANDIA    |***.089.602-**|21208225415   |ADEIDE RODRIGUES DAMASCENO     |700,00       |\n",
      "|202306         |202306        |AC |643                   |ACRELANDIA    |***.469.322-**|16036929952   |ADELINA XUITES JACOB           |650,00       |\n",
      "|202306         |202306        |AC |643                   |ACRELANDIA    |***.223.938-**|20060288897   |ADEMIR DANTAS DOS SANTOS JUNIOR|600,00       |\n",
      "|202306         |202306        |AC |643                   |ACRELANDIA    |***.217.922-**|20500011774   |ADENILDA TAVARES DA SILVA      |960,00       |\n",
      "|202306         |202306        |AC |643                   |ACRELANDIA    |***.092.642-**|12636981006   |ADENILSON MELO DA COSTA        |650,00       |\n",
      "|202306         |202306        |AC |643                   |ACRELANDIA    |***.593.192-**|20326549867   |ADENILZA MACHADO PINHEIRO      |800,00       |\n",
      "|202306         |202306        |AC |643                   |ACRELANDIA    |null          |12522975600   |ADENIR BOTELHO HERINGER        |600,00       |\n",
      "|202306         |202306        |AC |643                   |ACRELANDIA    |***.517.842-**|21205836847   |ADILIA TAMAIA DOS SANTOS       |650,00       |\n",
      "|202306         |202306        |AC |643                   |ACRELANDIA    |***.105.572-**|23677502671   |ADILINO DA SILVA BARROSO       |650,00       |\n",
      "|202306         |202306        |AC |643                   |ACRELANDIA    |***.387.772-**|23887628078   |ADILSON DIAS BARBOSA           |600,00       |\n",
      "+---------------+--------------+---+----------------------+--------------+--------------+--------------+-------------------------------+-------------+\n",
      "only showing top 20 rows\n",
      "\n"
     ]
    }
   ],
   "source": [
    "from pyspark.sql import SparkSession\n",
    "\n",
    "# Iniciar a sessão Spark\n",
    "# Definir um tamanho máximo de memória disponível para uso pelo driver\n",
    "spark = SparkSession.builder \\\n",
    "    .appName(\"Bolsa Familia Data Analysis\") \\\n",
    "    .config(\"spark.driver.memory\", \"4g\") \\\n",
    "    .getOrCreate()\n",
    "\n",
    "# Definir o caminho do arquivo CSV\n",
    "csv_file_path = 'BolsaFamilia/202306_NovoBolsaFamilia.csv'\n",
    "\n",
    "# Ler os dados do CSV para um DataFrame. Aqui, assumimos que o arquivo CSV possui um cabeçalho.\n",
    "# Também inferimos automaticamente o esquema dos dados. Adicionalmente, como o delimitador\n",
    "# padrão de um arquivo CSV é uma vírgula e o arquivo que estamos usando pode ter um delimitador diferente\n",
    "# (como ponto e vírgula), especificamos isso na opção 'sep'. Também indicamos o caractere de aspas\n",
    "# com a opção 'quote'. Para lidar com questões de codificação de caracteres que podem surgir ao trabalhar\n",
    "# com arquivos em formatos diferentes de UTF-8, usamos a opção 'encoding' para definir a codificação\n",
    "# correta, que neste caso é 'ISO-8859-1'.\n",
    "bolsa_familia_df = spark.read \\\n",
    "    .option(\"header\", \"true\") \\\n",
    "    .option(\"inferSchema\", \"true\") \\\n",
    "    .option(\"encoding\", \"ISO-8859-1\") \\\n",
    "    .option(\"sep\", \";\") \\\n",
    "    .option(\"quote\", \"\\\"\") \\\n",
    "    .csv(csv_file_path)\n",
    "\n",
    "# Mostrar as primeiras linhas do DataFrame para verificação. Aqui, usamos 'truncate=False' para garantir\n",
    "# que o Spark exiba o conteúdo completo das células do DataFrame, o que é útil para visualizar dados\n",
    "# com conteúdo mais extenso.\n",
    "bolsa_familia_df.show(truncate=False)"
   ]
  },
  {
   "cell_type": "code",
   "execution_count": 32,
   "id": "f80b3290-22f8-4acf-b6ed-ebaab8551c8d",
   "metadata": {
    "tags": []
   },
   "outputs": [
    {
     "name": "stdout",
     "output_type": "stream",
     "text": [
      "['ADM', 'AAS', 'ADPDN', 'AKR', 'AMSA', 'ABDA', 'ANDS', 'ADSP', 'AIDM', 'ADSC']\n"
     ]
    }
   ],
   "source": [
    "# Transformando a coluna de nomes dos beneficiários em um RDD\n",
    "nomes_beneficiarios_rdd = bolsa_familia_df.select(\"NOME FAVORECIDO\").rdd.flatMap(lambda row: row)\n",
    "\n",
    "# Aplicando função lambda para extrair as iniciais\n",
    "iniciais_rdd = nomes_beneficiarios_rdd.map(lambda nome: ''.join([x[0].upper() for x in nome.split()]))\n",
    "\n",
    "# Coletando e exibindo as iniciais\n",
    "print(iniciais_rdd.take(10))"
   ]
  },
  {
   "cell_type": "code",
   "execution_count": 46,
   "id": "364591f5-8891-4ff3-beac-a1e927b0919c",
   "metadata": {
    "tags": []
   },
   "outputs": [
    {
     "name": "stdout",
     "output_type": "stream",
     "text": [
      "+---------------+--------------+---+----------------------+--------------+--------------+--------------+-------------------------------+-------------+\n",
      "|MÊS COMPETÊNCIA|MÊS REFERÊNCIA|UF |CÓDIGO MUNICÍPIO SIAFI|NOME MUNICÍPIO|CPF FAVORECIDO|NIS FAVORECIDO|NOME FAVORECIDO                |VALOR PARCELA|\n",
      "+---------------+--------------+---+----------------------+--------------+--------------+--------------+-------------------------------+-------------+\n",
      "|202306         |202306        |AC |643                   |ACRELANDIA    |***.833.642-**|16167611395   |ABIGAIL DAGMAR MACHADO         |850,00       |\n",
      "|202306         |202306        |AC |643                   |ACRELANDIA    |null          |16122034321   |ABRAAO AMORA SALGUEIRO         |600,00       |\n",
      "|202306         |202306        |AC |643                   |ACRELANDIA    |***.355.042-**|16121660806   |ABRAAO DA PIEDADE DO NASCIMENTO|750,00       |\n",
      "|202306         |202306        |AC |643                   |ACRELANDIA    |***.050.782-**|16094443293   |ABRAO KEMPNER RUMANZKI         |600,00       |\n",
      "|202306         |202306        |AC |643                   |ACRELANDIA    |***.455.212-**|16110238660   |ACHILLA MARIA SOUZA ANDRADE    |700,00       |\n",
      "|202306         |202306        |AC |643                   |ACRELANDIA    |***.305.412-**|20796469754   |ADALCICLEIA BARROS DE ARAUJO   |650,00       |\n",
      "|202306         |202306        |AC |643                   |ACRELANDIA    |***.332.032-**|16120063855   |ADALGIZA NOGUEIRA DOS SANTOS   |600,00       |\n",
      "|202306         |202306        |AC |643                   |ACRELANDIA    |***.492.902-**|16120063561   |ADAO DE SOUZA PIEDADE          |600,00       |\n",
      "|202306         |202306        |AC |643                   |ACRELANDIA    |null          |20369134251   |ADAO INES DE MELO              |600,00       |\n",
      "|202306         |202306        |AC |643                   |ACRELANDIA    |***.402.382-**|12866781408   |ADECILDO DA SILVA CORREIA      |650,00       |\n",
      "|202306         |202306        |AC |643                   |ACRELANDIA    |***.089.602-**|21208225415   |ADEIDE RODRIGUES DAMASCENO     |700,00       |\n",
      "|202306         |202306        |AC |643                   |ACRELANDIA    |***.469.322-**|16036929952   |ADELINA XUITES JACOB           |650,00       |\n",
      "|202306         |202306        |AC |643                   |ACRELANDIA    |***.223.938-**|20060288897   |ADEMIR DANTAS DOS SANTOS JUNIOR|600,00       |\n",
      "|202306         |202306        |AC |643                   |ACRELANDIA    |***.217.922-**|20500011774   |ADENILDA TAVARES DA SILVA      |960,00       |\n",
      "|202306         |202306        |AC |643                   |ACRELANDIA    |***.092.642-**|12636981006   |ADENILSON MELO DA COSTA        |650,00       |\n",
      "|202306         |202306        |AC |643                   |ACRELANDIA    |***.593.192-**|20326549867   |ADENILZA MACHADO PINHEIRO      |800,00       |\n",
      "|202306         |202306        |AC |643                   |ACRELANDIA    |null          |12522975600   |ADENIR BOTELHO HERINGER        |600,00       |\n",
      "|202306         |202306        |AC |643                   |ACRELANDIA    |***.517.842-**|21205836847   |ADILIA TAMAIA DOS SANTOS       |650,00       |\n",
      "|202306         |202306        |AC |643                   |ACRELANDIA    |***.105.572-**|23677502671   |ADILINO DA SILVA BARROSO       |650,00       |\n",
      "|202306         |202306        |AC |643                   |ACRELANDIA    |***.387.772-**|23887628078   |ADILSON DIAS BARBOSA           |600,00       |\n",
      "+---------------+--------------+---+----------------------+--------------+--------------+--------------+-------------------------------+-------------+\n",
      "only showing top 20 rows\n",
      "\n"
     ]
    }
   ],
   "source": [
    "from pyspark.sql.functions import col\n",
    "\n",
    "# Filtrando o DataFrame para manter somente os registros do ano corrente (2023)\n",
    "pagamentos_2023_df = bolsa_familia_df.filter(col(\"MÊS COMPETÊNCIA\").cast(\"string\").substr(1, 4) == \"2023\")\n",
    "\n",
    "# Exibindo os registros filtrados\n",
    "pagamentos_2023_df.show(truncate=False)"
   ]
  },
  {
   "cell_type": "code",
   "execution_count": 49,
   "id": "f04abe03-7f96-4d9e-982a-e662b9744c58",
   "metadata": {
    "tags": []
   },
   "outputs": [
    {
     "name": "stdout",
     "output_type": "stream",
     "text": [
      "[850, 600, 750, 600, 700, 650, 600, 600, 600, 650]\n"
     ]
    }
   ],
   "source": [
    "from pyspark.sql.functions import col, regexp_replace\n",
    "\n",
    "# Primeiro, convertendo a coluna \"VALOR PARCELA\" para string\n",
    "bolsa_familia_df = bolsa_familia_df.withColumn(\"valor_str\", col(\"VALOR PARCELA\").cast(\"string\"))\n",
    "\n",
    "# Agora, substituindo vírgula por ponto e convertendo para float\n",
    "bolsa_familia_df = bolsa_familia_df.withColumn(\"VALOR_PARCELA_FLOAT\", \n",
    "                                                regexp_replace(\"valor_str\", \",\", \".\").cast(\"float\"))\n",
    "\n",
    "# Removendo a coluna intermediária \"valor_str\" para limpeza\n",
    "bolsa_familia_df = bolsa_familia_df.drop(\"valor_str\")\n",
    "\n",
    "# Transformando a coluna de valores das parcelas em um RDD\n",
    "valores_parcela_rdd = bolsa_familia_df.select(\"VALOR_PARCELA_FLOAT\").rdd.flatMap(lambda row: row)\n",
    "\n",
    "# Função lambda para arredondar os valores\n",
    "arredondados_rdd = valores_parcela_rdd.map(lambda valor: round(valor))\n",
    "\n",
    "# Coletando e exibindo os valores arredondados\n",
    "print(arredondados_rdd.take(10))\n"
   ]
  },
  {
   "cell_type": "code",
   "execution_count": null,
   "id": "7a32c405-7e71-4f76-98a9-5626188b85e4",
   "metadata": {},
   "outputs": [],
   "source": []
  }
 ],
 "metadata": {
  "kernelspec": {
   "display_name": "Python 3 (ipykernel)",
   "language": "python",
   "name": "python3"
  },
  "language_info": {
   "codemirror_mode": {
    "name": "ipython",
    "version": 3
   },
   "file_extension": ".py",
   "mimetype": "text/x-python",
   "name": "python",
   "nbconvert_exporter": "python",
   "pygments_lexer": "ipython3",
   "version": "3.10.10"
  }
 },
 "nbformat": 4,
 "nbformat_minor": 5
}
