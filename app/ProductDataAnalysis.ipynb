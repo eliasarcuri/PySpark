{
 "cells": [
  {
   "cell_type": "code",
   "execution_count": 1,
   "id": "bb8976e2-5c6c-4f34-93e3-501dcd664f0f",
   "metadata": {
    "tags": []
   },
   "outputs": [],
   "source": [
    "# Inicie uma sessão Spark no seu notebook.\n",
    "from pyspark.sql import SparkSession\n",
    "spark = SparkSession.builder.appName(\"ProductDataAnalysis\").getOrCreate()"
   ]
  },
  {
   "cell_type": "code",
   "execution_count": 4,
   "id": "2b9a44ef-3866-465e-8124-a59751a885aa",
   "metadata": {
    "tags": []
   },
   "outputs": [],
   "source": [
    "# Carregue os dados do arquivo CSV que já está dentro do seu projeto\n",
    "file_path = \"product+classification+and+clustering/pricerunner_aggregate.csv\"\n",
    "df = spark.read.csv(file_path, header=True, inferSchema=True)"
   ]
  },
  {
   "cell_type": "code",
   "execution_count": 5,
   "id": "7e1d2e0e-5c39-4adc-b6b5-15770a8134b6",
   "metadata": {
    "tags": []
   },
   "outputs": [
    {
     "name": "stdout",
     "output_type": "stream",
     "text": [
      "+----------+--------------------+------------+-----------+--------------------+------------+---------------+\n",
      "|Product ID|       Product Title| Merchant ID| Cluster ID|       Cluster Label| Category ID| Category Label|\n",
      "+----------+--------------------+------------+-----------+--------------------+------------+---------------+\n",
      "|         1|apple iphone 8 pl...|           1|          1|Apple iPhone 8 Pl...|        2612|  Mobile Phones|\n",
      "|         2|apple iphone 8 pl...|           2|          1|Apple iPhone 8 Pl...|        2612|  Mobile Phones|\n",
      "|         3|apple mq8n2b/a ip...|           3|          1|Apple iPhone 8 Pl...|        2612|  Mobile Phones|\n",
      "|         4|apple iphone 8 pl...|           4|          1|Apple iPhone 8 Pl...|        2612|  Mobile Phones|\n",
      "|         5|apple iphone 8 pl...|           5|          1|Apple iPhone 8 Pl...|        2612|  Mobile Phones|\n",
      "+----------+--------------------+------------+-----------+--------------------+------------+---------------+\n",
      "only showing top 5 rows\n",
      "\n"
     ]
    }
   ],
   "source": [
    "df.show(5)"
   ]
  },
  {
   "cell_type": "code",
   "execution_count": 6,
   "id": "18a852d7-af0e-4cb9-906f-ca9e383a1dcd",
   "metadata": {
    "tags": []
   },
   "outputs": [
    {
     "name": "stdout",
     "output_type": "stream",
     "text": [
      "root\n",
      " |-- Product ID: integer (nullable = true)\n",
      " |-- Product Title: string (nullable = true)\n",
      " |--  Merchant ID: integer (nullable = true)\n",
      " |--  Cluster ID: integer (nullable = true)\n",
      " |--  Cluster Label: string (nullable = true)\n",
      " |--  Category ID: integer (nullable = true)\n",
      " |--  Category Label: string (nullable = true)\n",
      "\n"
     ]
    }
   ],
   "source": [
    "df.printSchema()"
   ]
  },
  {
   "cell_type": "code",
   "execution_count": 7,
   "id": "97c51933-62ce-4493-bd88-9f53f6b1ae7d",
   "metadata": {
    "tags": []
   },
   "outputs": [
    {
     "name": "stdout",
     "output_type": "stream",
     "text": [
      "+-------+-----------------+--------------------+------------------+------------------+--------------------+------------------+----------------+\n",
      "|summary|       Product ID|       Product Title|       Merchant ID|        Cluster ID|       Cluster Label|       Category ID|  Category Label|\n",
      "+-------+-----------------+--------------------+------------------+------------------+--------------------+------------------+----------------+\n",
      "|  count|            35311|               35311|             35311|             35311|               35311|             35311|           35311|\n",
      "|   mean|26150.80017558268|                null|120.50188326583785|30110.687632749003|                null| 2618.142929965167|            null|\n",
      "| stddev|13498.19122018199|                null|117.04555721851422|18410.265642128295|                null|3.6007080727956833|            null|\n",
      "|    min|                1|10 hd portable te...|                 1|                 1|AEG A71101TSX0 St...|              2612|            CPUs|\n",
      "|    max|            47358|zwf91283w 9kg 120...|               371|             47525|  iceQ Iceq48b Black|              2623|Washing Machines|\n",
      "+-------+-----------------+--------------------+------------------+------------------+--------------------+------------------+----------------+\n",
      "\n"
     ]
    }
   ],
   "source": [
    "df.describe().show()"
   ]
  }
 ],
 "metadata": {
  "kernelspec": {
   "display_name": "Python 3 (ipykernel)",
   "language": "python",
   "name": "python3"
  },
  "language_info": {
   "codemirror_mode": {
    "name": "ipython",
    "version": 3
   },
   "file_extension": ".py",
   "mimetype": "text/x-python",
   "name": "python",
   "nbconvert_exporter": "python",
   "pygments_lexer": "ipython3",
   "version": "3.10.10"
  }
 },
 "nbformat": 4,
 "nbformat_minor": 5
}
