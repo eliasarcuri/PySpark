{
 "cells": [
  {
   "cell_type": "code",
   "execution_count": null,
   "id": "d159dbcf-b548-4d2e-ab94-c067e5a5560f",
   "metadata": {},
   "outputs": [],
   "source": [
    "# Má prática: Explicando o que é óbvio pelo código\n",
    "# Incrementa i em 1\n",
    "i += 1\n",
    "\n",
    "# Boa prática: Explicando o motivo da ação\n",
    "# Incrementa o contador de linhas processadas\n",
    "line_counter += 1"
   ]
  },
  {
   "cell_type": "code",
   "execution_count": null,
   "id": "130c1e05-b045-4d11-8cfb-4589e3697a72",
   "metadata": {},
   "outputs": [],
   "source": [
    "# Verifica se o usuário tem permissões antes de permitir acesso\n",
    "# Esta lógica assume que todos os usuários 'admin' têm acesso total\n",
    "if user.role == 'admin' or user.has_permission('access'):\n",
    "    grant_access(user)"
   ]
  },
  {
   "cell_type": "code",
   "execution_count": null,
   "id": "ece51b67-ce1d-4a9a-84bb-7dc67d633fab",
   "metadata": {},
   "outputs": [],
   "source": [
    "def calculate_tax(income):\n",
    "    \"\"\"\n",
    "    Calcula o imposto com base na renda.\n",
    "\n",
    "    Parameters:\n",
    "    income (float): Renda anual do indivíduo.\n",
    "\n",
    "    Returns:\n",
    "    float: Valor do imposto devido.\n",
    "    \"\"\"\n",
    "    # Código da função..."
   ]
  },
  {
   "cell_type": "code",
   "execution_count": null,
   "id": "69b220c6-62ef-48fc-a5d6-350bd0a89a16",
   "metadata": {},
   "outputs": [],
   "source": [
    "name: CI/CD Pipeline para Aplicação Spark\n",
    "\n",
    "on:\n",
    "  push:\n",
    "    branches: [ main ]\n",
    "\n",
    "jobs:\n",
    "  build-and-deploy:\n",
    "    runs-on: ubuntu-latest\n",
    "    steps:\n",
    "    - uses: actions/checkout@v2\n",
    "    - name: Construir e Publicar Imagem Docker\n",
    "      run: |\n",
    "        docker build -t minha-aplicacao-spark .\n",
    "        docker tag minha-aplicacao-spark meu-registro/minha-aplicacao-spark:latest\n",
    "        docker push meu-registro/minha-aplicacao-spark:latest\n",
    "    - name: Atualizar Aplicação no Kubernetes\n",
    "      run: |\n",
    "        kubectl set image deployment/meu-deployment minha-aplicacao=minha-aplicacao-spark:latest\n"
   ]
  }
 ],
 "metadata": {
  "kernelspec": {
   "display_name": "Python 3 (ipykernel)",
   "language": "python",
   "name": "python3"
  },
  "language_info": {
   "codemirror_mode": {
    "name": "ipython",
    "version": 3
   },
   "file_extension": ".py",
   "mimetype": "text/x-python",
   "name": "python",
   "nbconvert_exporter": "python",
   "pygments_lexer": "ipython3",
   "version": "3.11.6"
  }
 },
 "nbformat": 4,
 "nbformat_minor": 5
}
