{
 "cells": [
  {
   "cell_type": "code",
   "execution_count": 4,
   "id": "76bf264b-4d86-4674-beb6-f45eb03feef2",
   "metadata": {
    "tags": []
   },
   "outputs": [],
   "source": [
    "from pyspark.sql import SparkSession\n",
    "\n",
    "# Inicia uma sessão Spark. Se já existe uma sessão, irá reutilizá-la.\n",
    "spark = SparkSession.builder \\\n",
    "    .appName(\"Minha Primeira Sessão Spark\") \\\n",
    "    .getOrCreate()\n"
   ]
  }
 ],
 "metadata": {
  "kernelspec": {
   "display_name": "Python 3 (ipykernel)",
   "language": "python",
   "name": "python3"
  },
  "language_info": {
   "codemirror_mode": {
    "name": "ipython",
    "version": 3
   },
   "file_extension": ".py",
   "mimetype": "text/x-python",
   "name": "python",
   "nbconvert_exporter": "python",
   "pygments_lexer": "ipython3",
   "version": "3.10.10"
  }
 },
 "nbformat": 4,
 "nbformat_minor": 5
}
