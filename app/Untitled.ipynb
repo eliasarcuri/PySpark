{
 "cells": [
  {
   "cell_type": "code",
   "execution_count": 4,
   "id": "76bf264b-4d86-4674-beb6-f45eb03feef2",
   "metadata": {
    "tags": []
   },
   "outputs": [],
   "source": [
    "from pyspark.sql import SparkSession\n",
    "\n",
    "# Inicia uma sessão Spark. Se já existe uma sessão, irá reutilizá-la.\n",
    "spark = SparkSession.builder \\\n",
    "    .appName(\"Minha Primeira Sessão Spark\") \\\n",
    "    .getOrCreate()\n"
   ]
  },
  {
   "cell_type": "code",
   "execution_count": null,
   "id": "f1630f66-82de-4468-a2f5-16168154018b",
   "metadata": {},
   "outputs": [],
   "source": [
    "# Exemplo: Calculando o total de vendas e salvando o resultado\n",
    "total_vendas = vendas_df.groupBy(\"produto\").sum(\"quantidade\").cache()\n",
    "total_vendas.show()  # Ação para exibir o resultado\n",
    "\n",
    "total_vendas.write.csv(\"/caminho/para/salvar/total_vendas\")  # Ação para salvar o resultado"
   ]
  },
  {
   "cell_type": "code",
   "execution_count": null,
   "id": "4c0017b5-137f-435b-bf87-8127bb14155d",
   "metadata": {},
   "outputs": [],
   "source": [
    "# Sintaxe de uma função lambda em Python\n",
    "lambda argumentos: expressão"
   ]
  },
  {
   "cell_type": "code",
   "execution_count": 6,
   "id": "182bc6ad-4791-4e7c-96e5-d3865c8c0903",
   "metadata": {
    "tags": []
   },
   "outputs": [
    {
     "data": {
      "text/plain": [
       "[3, 6, 9, 12]"
      ]
     },
     "execution_count": 6,
     "metadata": {},
     "output_type": "execute_result"
    }
   ],
   "source": [
    "from pyspark import RDD  # Importe a classe RDD do módulo pyspark\n",
    "from pyspark.sql import SparkSession, DataFrame  # Importe a classe DataFrame do módulo pyspark.sql\n",
    "\n",
    "# Inicia uma sessão Spark\n",
    "spark = SparkSession.builder.appName(\"LambdaFunctions\").getOrCreate()\n",
    "\n",
    "# Atribui o SparkContext à variável 'sc'\n",
    "sc = spark.sparkContext\n",
    "\n",
    "# Aplicando uma função lambda para triplicar valores em um RDD\n",
    "numeros_rdd = sc.parallelize([1, 2, 3, 4])\n",
    "triplicado_rdd = numeros_rdd.map(lambda x: x * 3)\n",
    "\n",
    "triplicado_rdd.collect()"
   ]
  },
  {
   "cell_type": "code",
   "execution_count": 7,
   "id": "0738f1d8-96e6-4ca3-bad6-9d7a9ad66061",
   "metadata": {
    "tags": []
   },
   "outputs": [
    {
     "name": "stdout",
     "output_type": "stream",
     "text": [
      "[3, 6, 9, 12]\n"
     ]
    }
   ],
   "source": [
    "print(triplicado_rdd.take(5))"
   ]
  },
  {
   "cell_type": "code",
   "execution_count": 9,
   "id": "510144d7-d265-4bad-a5cc-72c7b8e16b97",
   "metadata": {
    "tags": []
   },
   "outputs": [
    {
     "data": {
      "text/plain": [
       "[132.0, 165.0, 104.50000000000001, 220.00000000000003]"
      ]
     },
     "execution_count": 9,
     "metadata": {},
     "output_type": "execute_result"
    }
   ],
   "source": [
    "# RDD com valores das parcelas\n",
    "valores_parcelas_rdd = sc.parallelize([120.00, 150.00, 95.00, 200.00])\n",
    "\n",
    "# Aplicando reajuste de 10% usando função lambda\n",
    "reajuste_rdd = valores_parcelas_rdd.map(lambda valor: valor * 1.1)\n",
    "\n",
    "reajuste_rdd.collect()"
   ]
  },
  {
   "cell_type": "markdown",
   "id": "c82078a0-4126-44de-86e3-da7a75f9aed7",
   "metadata": {},
   "source": [
    "## Exemplo do Uso de Cache"
   ]
  },
  {
   "cell_type": "code",
   "execution_count": null,
   "id": "05f80fd1-d058-41b5-80eb-7f70cab11f5c",
   "metadata": {},
   "outputs": [],
   "source": [
    "# Carregar os dados e criar um DataFrame\n",
    "df = spark.read.csv(\"path_to_data.csv\", header=True, inferSchema=True)\n",
    "\n",
    "# Registrar o DataFrame como uma tabela temporária\n",
    "df.createOrReplaceTempView(\"my_table\")\n",
    "\n",
    "# Cache a tabela após a primeira operação de transformação\n",
    "spark.sql(\"SELECT * FROM my_table WHERE some_column > some_value\").cache().createOrReplaceTempView(\"filtered_table\")\n",
    "\n",
    "# Executar várias operações de transformação em sequência no DataFrame cacheado\n",
    "# Como o DataFrame está cacheado, estas operações subsequentes serão mais rápidas\n",
    "\n",
    "# Por exemplo, contar os registros\n",
    "spark.sql(\"SELECT COUNT(*) FROM filtered_table\").show()\n",
    "\n",
    "# Calcular a média de uma coluna\n",
    "spark.sql(\"SELECT AVG(numeric_column) FROM filtered_table\").show()\n",
    "\n",
    "# Agrupar por uma coluna e contar os valores\n",
    "spark.sql(\"SELECT category_column, COUNT(*) FROM filtered_table GROUP BY category_column\").show()\n",
    "\n",
    "# Após as operações, é bom liberar o cache para evitar o uso desnecessário de memória\n",
    "spark.catalog.uncacheTable(\"filtered_table\")\n"
   ]
  }
 ],
 "metadata": {
  "kernelspec": {
   "display_name": "Python 3 (ipykernel)",
   "language": "python",
   "name": "python3"
  },
  "language_info": {
   "codemirror_mode": {
    "name": "ipython",
    "version": 3
   },
   "file_extension": ".py",
   "mimetype": "text/x-python",
   "name": "python",
   "nbconvert_exporter": "python",
   "pygments_lexer": "ipython3",
   "version": "3.10.10"
  }
 },
 "nbformat": 4,
 "nbformat_minor": 5
}
